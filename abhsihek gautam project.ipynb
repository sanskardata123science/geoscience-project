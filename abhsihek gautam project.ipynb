{
 "cells": [
  {
   "cell_type": "code",
   "execution_count": 1,
   "id": "9dd3c636",
   "metadata": {},
   "outputs": [],
   "source": [
    "import pandas as pd\n",
    "import numpy as np"
   ]
  },
  {
   "cell_type": "code",
   "execution_count": 2,
   "id": "812fcdb8",
   "metadata": {},
   "outputs": [],
   "source": [
    "df = pd.read_excel(r\"C:\\Users\\sansk\\Downloads\\Raj_WQ_Data_2000-2018 (2).xlsx\")"
   ]
  },
  {
   "cell_type": "code",
   "execution_count": 3,
   "id": "50abac4a",
   "metadata": {},
   "outputs": [
    {
     "data": {
      "text/html": [
       "<div>\n",
       "<style scoped>\n",
       "    .dataframe tbody tr th:only-of-type {\n",
       "        vertical-align: middle;\n",
       "    }\n",
       "\n",
       "    .dataframe tbody tr th {\n",
       "        vertical-align: top;\n",
       "    }\n",
       "\n",
       "    .dataframe thead th {\n",
       "        text-align: right;\n",
       "    }\n",
       "</style>\n",
       "<table border=\"1\" class=\"dataframe\">\n",
       "  <thead>\n",
       "    <tr style=\"text-align: right;\">\n",
       "      <th></th>\n",
       "      <th>SITE_ID</th>\n",
       "      <th>WRIS ID</th>\n",
       "      <th>LATITUDE</th>\n",
       "      <th>LONGITUDE</th>\n",
       "      <th>SITE_TYPE</th>\n",
       "      <th>STATE_NAME</th>\n",
       "      <th>DISTRICT_NAME</th>\n",
       "      <th>TAHSIL_NAME</th>\n",
       "      <th>BLOCK_NAME</th>\n",
       "      <th>SITE_NAME</th>\n",
       "      <th>...</th>\n",
       "      <th>FLUORIDE</th>\n",
       "      <th>SAR</th>\n",
       "      <th>RSC</th>\n",
       "      <th>SiO2</th>\n",
       "      <th>PO4</th>\n",
       "      <th>TDS</th>\n",
       "      <th>Turbidity</th>\n",
       "      <th>%Na</th>\n",
       "      <th>Arsenic</th>\n",
       "      <th>LR. No</th>\n",
       "    </tr>\n",
       "  </thead>\n",
       "  <tbody>\n",
       "    <tr>\n",
       "      <th>0</th>\n",
       "      <td>W260200075060001</td>\n",
       "      <td>W13591</td>\n",
       "      <td>26°2'0\" N</td>\n",
       "      <td>75°6'0\" E</td>\n",
       "      <td>Dug Well</td>\n",
       "      <td>Rajasthan</td>\n",
       "      <td>Ajmer</td>\n",
       "      <td>Arain</td>\n",
       "      <td>Arain</td>\n",
       "      <td>Ajagara</td>\n",
       "      <td>...</td>\n",
       "      <td>2.59</td>\n",
       "      <td>20.618619</td>\n",
       "      <td>2.609868</td>\n",
       "      <td>NaN</td>\n",
       "      <td>NaN</td>\n",
       "      <td>NaN</td>\n",
       "      <td>NaN</td>\n",
       "      <td>NaN</td>\n",
       "      <td>NaN</td>\n",
       "      <td>NaN</td>\n",
       "    </tr>\n",
       "    <tr>\n",
       "      <th>1</th>\n",
       "      <td>W260200075060001</td>\n",
       "      <td>W13591</td>\n",
       "      <td>26°2'0\" N</td>\n",
       "      <td>75°6'0\" E</td>\n",
       "      <td>Dug Well</td>\n",
       "      <td>Rajasthan</td>\n",
       "      <td>Ajmer</td>\n",
       "      <td>Arain</td>\n",
       "      <td>Arain</td>\n",
       "      <td>Ajagara</td>\n",
       "      <td>...</td>\n",
       "      <td>2.16</td>\n",
       "      <td>11.962937</td>\n",
       "      <td>ND</td>\n",
       "      <td>NaN</td>\n",
       "      <td>NaN</td>\n",
       "      <td>NaN</td>\n",
       "      <td>NaN</td>\n",
       "      <td>NaN</td>\n",
       "      <td>NaN</td>\n",
       "      <td>NaN</td>\n",
       "    </tr>\n",
       "    <tr>\n",
       "      <th>2</th>\n",
       "      <td>W260200075060001</td>\n",
       "      <td>W13591</td>\n",
       "      <td>26°2'0\" N</td>\n",
       "      <td>75°6'0\" E</td>\n",
       "      <td>Dug Well</td>\n",
       "      <td>Rajasthan</td>\n",
       "      <td>Ajmer</td>\n",
       "      <td>Arain</td>\n",
       "      <td>Arain</td>\n",
       "      <td>Ajagara</td>\n",
       "      <td>...</td>\n",
       "      <td>3.17</td>\n",
       "      <td>12.718459</td>\n",
       "      <td>3.615132</td>\n",
       "      <td>NaN</td>\n",
       "      <td>NaN</td>\n",
       "      <td>NaN</td>\n",
       "      <td>NaN</td>\n",
       "      <td>NaN</td>\n",
       "      <td>NaN</td>\n",
       "      <td>NaN</td>\n",
       "    </tr>\n",
       "    <tr>\n",
       "      <th>3</th>\n",
       "      <td>W260200075060001</td>\n",
       "      <td>W13591</td>\n",
       "      <td>26°2'0\" N</td>\n",
       "      <td>75°6'0\" E</td>\n",
       "      <td>Dug Well</td>\n",
       "      <td>Rajasthan</td>\n",
       "      <td>Ajmer</td>\n",
       "      <td>Arain</td>\n",
       "      <td>Arain</td>\n",
       "      <td>Ajagara</td>\n",
       "      <td>...</td>\n",
       "      <td>0.34</td>\n",
       "      <td>0.608946</td>\n",
       "      <td>0.002303</td>\n",
       "      <td>NaN</td>\n",
       "      <td>NaN</td>\n",
       "      <td>NaN</td>\n",
       "      <td>NaN</td>\n",
       "      <td>NaN</td>\n",
       "      <td>NaN</td>\n",
       "      <td>NaN</td>\n",
       "    </tr>\n",
       "    <tr>\n",
       "      <th>4</th>\n",
       "      <td>W260200075060001</td>\n",
       "      <td>W13591</td>\n",
       "      <td>26°2'0\" N</td>\n",
       "      <td>75°6'0\" E</td>\n",
       "      <td>Dug Well</td>\n",
       "      <td>Rajasthan</td>\n",
       "      <td>Ajmer</td>\n",
       "      <td>Arain</td>\n",
       "      <td>Arain</td>\n",
       "      <td>Ajagara</td>\n",
       "      <td>...</td>\n",
       "      <td>2.4</td>\n",
       "      <td>12.037908</td>\n",
       "      <td>ND</td>\n",
       "      <td>NaN</td>\n",
       "      <td>NaN</td>\n",
       "      <td>NaN</td>\n",
       "      <td>NaN</td>\n",
       "      <td>NaN</td>\n",
       "      <td>NaN</td>\n",
       "      <td>NaN</td>\n",
       "    </tr>\n",
       "  </tbody>\n",
       "</table>\n",
       "<p>5 rows × 37 columns</p>\n",
       "</div>"
      ],
      "text/plain": [
       "            SITE_ID WRIS ID   LATITUDE  LONGITUDE SITE_TYPE STATE_NAME  \\\n",
       "0  W260200075060001  W13591  26°2'0\" N  75°6'0\" E  Dug Well  Rajasthan   \n",
       "1  W260200075060001  W13591  26°2'0\" N  75°6'0\" E  Dug Well  Rajasthan   \n",
       "2  W260200075060001  W13591  26°2'0\" N  75°6'0\" E  Dug Well  Rajasthan   \n",
       "3  W260200075060001  W13591  26°2'0\" N  75°6'0\" E  Dug Well  Rajasthan   \n",
       "4  W260200075060001  W13591  26°2'0\" N  75°6'0\" E  Dug Well  Rajasthan   \n",
       "\n",
       "  DISTRICT_NAME TAHSIL_NAME BLOCK_NAME SITE_NAME  ... FLUORIDE        SAR  \\\n",
       "0         Ajmer       Arain      Arain   Ajagara  ...     2.59  20.618619   \n",
       "1         Ajmer       Arain      Arain   Ajagara  ...     2.16  11.962937   \n",
       "2         Ajmer       Arain      Arain   Ajagara  ...     3.17  12.718459   \n",
       "3         Ajmer       Arain      Arain   Ajagara  ...     0.34   0.608946   \n",
       "4         Ajmer       Arain      Arain   Ajagara  ...      2.4  12.037908   \n",
       "\n",
       "        RSC  SiO2  PO4  TDS  Turbidity  %Na  Arsenic  LR. No  \n",
       "0  2.609868   NaN  NaN  NaN        NaN  NaN      NaN     NaN  \n",
       "1        ND   NaN  NaN  NaN        NaN  NaN      NaN     NaN  \n",
       "2  3.615132   NaN  NaN  NaN        NaN  NaN      NaN     NaN  \n",
       "3  0.002303   NaN  NaN  NaN        NaN  NaN      NaN     NaN  \n",
       "4        ND   NaN  NaN  NaN        NaN  NaN      NaN     NaN  \n",
       "\n",
       "[5 rows x 37 columns]"
      ]
     },
     "execution_count": 3,
     "metadata": {},
     "output_type": "execute_result"
    }
   ],
   "source": [
    "df.head()"
   ]
  },
  {
   "cell_type": "code",
   "execution_count": 4,
   "id": "b870b74e",
   "metadata": {},
   "outputs": [
    {
     "data": {
      "text/plain": [
       "2004    695\n",
       "2001    675\n",
       "2009    659\n",
       "2002    583\n",
       "2000    543\n",
       "2007    526\n",
       "2008    496\n",
       "2006    491\n",
       "2005    478\n",
       "2003      2\n",
       "Name: year, dtype: int64"
      ]
     },
     "execution_count": 4,
     "metadata": {},
     "output_type": "execute_result"
    }
   ],
   "source": [
    "df[\"year\"].value_counts()"
   ]
  },
  {
   "cell_type": "code",
   "execution_count": 5,
   "id": "1dc42ca6",
   "metadata": {},
   "outputs": [
    {
     "data": {
      "text/plain": [
       "SITE_ID           5148\n",
       "WRIS ID           5148\n",
       "LATITUDE          5148\n",
       "LONGITUDE         5148\n",
       "SITE_TYPE         5148\n",
       "STATE_NAME        5148\n",
       "DISTRICT_NAME     5148\n",
       "TAHSIL_NAME       5148\n",
       "BLOCK_NAME        5148\n",
       "SITE_NAME         5148\n",
       "BASIN_NAME        5148\n",
       "PROJECT_NAME      5148\n",
       "year              5148\n",
       "PH                5148\n",
       "EC                5148\n",
       "TH                5148\n",
       "TOT_ALKALINITY    5148\n",
       "CA                5148\n",
       "MG                5148\n",
       "NA                5148\n",
       "K                 5148\n",
       "FE                5148\n",
       "CARBONATE         5148\n",
       "BICARBONATE       5148\n",
       "CHLORIDE          5148\n",
       "SULPHATE          5148\n",
       "NITRATE           5148\n",
       "FLUORIDE          5148\n",
       "SAR               5148\n",
       "RSC               5148\n",
       "SiO2                 0\n",
       "PO4                  0\n",
       "TDS                  0\n",
       "Turbidity            0\n",
       "%Na                  0\n",
       "Arsenic              0\n",
       "LR. No               0\n",
       "dtype: int64"
      ]
     },
     "execution_count": 5,
     "metadata": {},
     "output_type": "execute_result"
    }
   ],
   "source": [
    "df.count()"
   ]
  },
  {
   "cell_type": "code",
   "execution_count": 6,
   "id": "738bf6ff",
   "metadata": {},
   "outputs": [],
   "source": [
    "df2 = pd.read_excel(r\"C:\\Users\\sansk\\Downloads\\Raj_WQ_Data_2000-2018 (3).xlsx\")"
   ]
  },
  {
   "cell_type": "code",
   "execution_count": 7,
   "id": "47abcc6c",
   "metadata": {},
   "outputs": [
    {
     "data": {
      "text/plain": [
       "2004    695\n",
       "2001    675\n",
       "2009    659\n",
       "2002    583\n",
       "2000    543\n",
       "2007    526\n",
       "2008    496\n",
       "2006    491\n",
       "2005    478\n",
       "2003      2\n",
       "Name: year, dtype: int64"
      ]
     },
     "execution_count": 7,
     "metadata": {},
     "output_type": "execute_result"
    }
   ],
   "source": [
    "df2[\"year\"].value_counts()"
   ]
  },
  {
   "cell_type": "code",
   "execution_count": 8,
   "id": "935f90a5",
   "metadata": {},
   "outputs": [
    {
     "data": {
      "text/html": [
       "<div>\n",
       "<style scoped>\n",
       "    .dataframe tbody tr th:only-of-type {\n",
       "        vertical-align: middle;\n",
       "    }\n",
       "\n",
       "    .dataframe tbody tr th {\n",
       "        vertical-align: top;\n",
       "    }\n",
       "\n",
       "    .dataframe thead th {\n",
       "        text-align: right;\n",
       "    }\n",
       "</style>\n",
       "<table border=\"1\" class=\"dataframe\">\n",
       "  <thead>\n",
       "    <tr style=\"text-align: right;\">\n",
       "      <th></th>\n",
       "      <th>year</th>\n",
       "      <th>PH</th>\n",
       "      <th>EC</th>\n",
       "      <th>TH</th>\n",
       "      <th>TOT_ALKALINITY</th>\n",
       "      <th>CA</th>\n",
       "      <th>MG</th>\n",
       "      <th>NA</th>\n",
       "      <th>BICARBONATE</th>\n",
       "      <th>CHLORIDE</th>\n",
       "      <th>SULPHATE</th>\n",
       "      <th>NITRATE</th>\n",
       "      <th>SAR</th>\n",
       "      <th>SiO2</th>\n",
       "      <th>PO4</th>\n",
       "      <th>TDS</th>\n",
       "      <th>Turbidity</th>\n",
       "      <th>%Na</th>\n",
       "      <th>Arsenic</th>\n",
       "      <th>LR. No</th>\n",
       "    </tr>\n",
       "  </thead>\n",
       "  <tbody>\n",
       "    <tr>\n",
       "      <th>count</th>\n",
       "      <td>5148.000000</td>\n",
       "      <td>5148.000000</td>\n",
       "      <td>5148.000000</td>\n",
       "      <td>5148.000000</td>\n",
       "      <td>5148.000000</td>\n",
       "      <td>5148.000000</td>\n",
       "      <td>5148.000000</td>\n",
       "      <td>5148.000000</td>\n",
       "      <td>5148.000000</td>\n",
       "      <td>5148.000000</td>\n",
       "      <td>5148.000000</td>\n",
       "      <td>5148.000000</td>\n",
       "      <td>5148.000000</td>\n",
       "      <td>0.0</td>\n",
       "      <td>0.0</td>\n",
       "      <td>0.0</td>\n",
       "      <td>0.0</td>\n",
       "      <td>0.0</td>\n",
       "      <td>0.0</td>\n",
       "      <td>0.0</td>\n",
       "    </tr>\n",
       "    <tr>\n",
       "      <th>mean</th>\n",
       "      <td>2004.573427</td>\n",
       "      <td>7.979256</td>\n",
       "      <td>2493.115773</td>\n",
       "      <td>458.100039</td>\n",
       "      <td>353.659042</td>\n",
       "      <td>80.011072</td>\n",
       "      <td>63.726813</td>\n",
       "      <td>402.915998</td>\n",
       "      <td>416.867716</td>\n",
       "      <td>496.264782</td>\n",
       "      <td>230.024623</td>\n",
       "      <td>84.503944</td>\n",
       "      <td>8.442831</td>\n",
       "      <td>NaN</td>\n",
       "      <td>NaN</td>\n",
       "      <td>NaN</td>\n",
       "      <td>NaN</td>\n",
       "      <td>NaN</td>\n",
       "      <td>NaN</td>\n",
       "      <td>NaN</td>\n",
       "    </tr>\n",
       "    <tr>\n",
       "      <th>std</th>\n",
       "      <td>3.021561</td>\n",
       "      <td>0.427663</td>\n",
       "      <td>2355.542538</td>\n",
       "      <td>444.976461</td>\n",
       "      <td>195.613674</td>\n",
       "      <td>81.841885</td>\n",
       "      <td>74.835005</td>\n",
       "      <td>485.445243</td>\n",
       "      <td>235.060387</td>\n",
       "      <td>731.993080</td>\n",
       "      <td>386.986394</td>\n",
       "      <td>130.163980</td>\n",
       "      <td>8.281312</td>\n",
       "      <td>NaN</td>\n",
       "      <td>NaN</td>\n",
       "      <td>NaN</td>\n",
       "      <td>NaN</td>\n",
       "      <td>NaN</td>\n",
       "      <td>NaN</td>\n",
       "      <td>NaN</td>\n",
       "    </tr>\n",
       "    <tr>\n",
       "      <th>min</th>\n",
       "      <td>2000.000000</td>\n",
       "      <td>6.300000</td>\n",
       "      <td>135.000000</td>\n",
       "      <td>10.000000</td>\n",
       "      <td>8.196721</td>\n",
       "      <td>2.000000</td>\n",
       "      <td>1.000000</td>\n",
       "      <td>2.350000</td>\n",
       "      <td>10.000000</td>\n",
       "      <td>7.100000</td>\n",
       "      <td>0.000000</td>\n",
       "      <td>0.000000</td>\n",
       "      <td>0.045261</td>\n",
       "      <td>NaN</td>\n",
       "      <td>NaN</td>\n",
       "      <td>NaN</td>\n",
       "      <td>NaN</td>\n",
       "      <td>NaN</td>\n",
       "      <td>NaN</td>\n",
       "      <td>NaN</td>\n",
       "    </tr>\n",
       "    <tr>\n",
       "      <th>25%</th>\n",
       "      <td>2002.000000</td>\n",
       "      <td>7.700000</td>\n",
       "      <td>983.750000</td>\n",
       "      <td>215.000000</td>\n",
       "      <td>230.327869</td>\n",
       "      <td>36.000000</td>\n",
       "      <td>24.000000</td>\n",
       "      <td>96.000000</td>\n",
       "      <td>268.000000</td>\n",
       "      <td>85.000000</td>\n",
       "      <td>45.000000</td>\n",
       "      <td>13.000000</td>\n",
       "      <td>2.352493</td>\n",
       "      <td>NaN</td>\n",
       "      <td>NaN</td>\n",
       "      <td>NaN</td>\n",
       "      <td>NaN</td>\n",
       "      <td>NaN</td>\n",
       "      <td>NaN</td>\n",
       "      <td>NaN</td>\n",
       "    </tr>\n",
       "    <tr>\n",
       "      <th>50%</th>\n",
       "      <td>2005.000000</td>\n",
       "      <td>8.000000</td>\n",
       "      <td>1690.000000</td>\n",
       "      <td>320.000000</td>\n",
       "      <td>309.836066</td>\n",
       "      <td>60.000000</td>\n",
       "      <td>39.000000</td>\n",
       "      <td>235.000000</td>\n",
       "      <td>366.000000</td>\n",
       "      <td>220.000000</td>\n",
       "      <td>113.000000</td>\n",
       "      <td>35.000000</td>\n",
       "      <td>5.668874</td>\n",
       "      <td>NaN</td>\n",
       "      <td>NaN</td>\n",
       "      <td>NaN</td>\n",
       "      <td>NaN</td>\n",
       "      <td>NaN</td>\n",
       "      <td>NaN</td>\n",
       "      <td>NaN</td>\n",
       "    </tr>\n",
       "    <tr>\n",
       "      <th>75%</th>\n",
       "      <td>2007.000000</td>\n",
       "      <td>8.250000</td>\n",
       "      <td>3182.500000</td>\n",
       "      <td>515.500000</td>\n",
       "      <td>430.000000</td>\n",
       "      <td>92.000000</td>\n",
       "      <td>73.000000</td>\n",
       "      <td>535.000000</td>\n",
       "      <td>507.500000</td>\n",
       "      <td>611.000000</td>\n",
       "      <td>270.000000</td>\n",
       "      <td>100.000000</td>\n",
       "      <td>12.139540</td>\n",
       "      <td>NaN</td>\n",
       "      <td>NaN</td>\n",
       "      <td>NaN</td>\n",
       "      <td>NaN</td>\n",
       "      <td>NaN</td>\n",
       "      <td>NaN</td>\n",
       "      <td>NaN</td>\n",
       "    </tr>\n",
       "    <tr>\n",
       "      <th>max</th>\n",
       "      <td>2009.000000</td>\n",
       "      <td>10.990000</td>\n",
       "      <td>26785.000000</td>\n",
       "      <td>5120.000000</td>\n",
       "      <td>3814.754098</td>\n",
       "      <td>1000.000000</td>\n",
       "      <td>870.000000</td>\n",
       "      <td>5960.000000</td>\n",
       "      <td>4654.000000</td>\n",
       "      <td>8789.000000</td>\n",
       "      <td>7394.000000</td>\n",
       "      <td>975.000000</td>\n",
       "      <td>96.219539</td>\n",
       "      <td>NaN</td>\n",
       "      <td>NaN</td>\n",
       "      <td>NaN</td>\n",
       "      <td>NaN</td>\n",
       "      <td>NaN</td>\n",
       "      <td>NaN</td>\n",
       "      <td>NaN</td>\n",
       "    </tr>\n",
       "  </tbody>\n",
       "</table>\n",
       "</div>"
      ],
      "text/plain": [
       "              year           PH            EC           TH  TOT_ALKALINITY  \\\n",
       "count  5148.000000  5148.000000   5148.000000  5148.000000     5148.000000   \n",
       "mean   2004.573427     7.979256   2493.115773   458.100039      353.659042   \n",
       "std       3.021561     0.427663   2355.542538   444.976461      195.613674   \n",
       "min    2000.000000     6.300000    135.000000    10.000000        8.196721   \n",
       "25%    2002.000000     7.700000    983.750000   215.000000      230.327869   \n",
       "50%    2005.000000     8.000000   1690.000000   320.000000      309.836066   \n",
       "75%    2007.000000     8.250000   3182.500000   515.500000      430.000000   \n",
       "max    2009.000000    10.990000  26785.000000  5120.000000     3814.754098   \n",
       "\n",
       "                CA           MG           NA  BICARBONATE     CHLORIDE  \\\n",
       "count  5148.000000  5148.000000  5148.000000  5148.000000  5148.000000   \n",
       "mean     80.011072    63.726813   402.915998   416.867716   496.264782   \n",
       "std      81.841885    74.835005   485.445243   235.060387   731.993080   \n",
       "min       2.000000     1.000000     2.350000    10.000000     7.100000   \n",
       "25%      36.000000    24.000000    96.000000   268.000000    85.000000   \n",
       "50%      60.000000    39.000000   235.000000   366.000000   220.000000   \n",
       "75%      92.000000    73.000000   535.000000   507.500000   611.000000   \n",
       "max    1000.000000   870.000000  5960.000000  4654.000000  8789.000000   \n",
       "\n",
       "          SULPHATE      NITRATE          SAR  SiO2  PO4  TDS  Turbidity  %Na  \\\n",
       "count  5148.000000  5148.000000  5148.000000   0.0  0.0  0.0        0.0  0.0   \n",
       "mean    230.024623    84.503944     8.442831   NaN  NaN  NaN        NaN  NaN   \n",
       "std     386.986394   130.163980     8.281312   NaN  NaN  NaN        NaN  NaN   \n",
       "min       0.000000     0.000000     0.045261   NaN  NaN  NaN        NaN  NaN   \n",
       "25%      45.000000    13.000000     2.352493   NaN  NaN  NaN        NaN  NaN   \n",
       "50%     113.000000    35.000000     5.668874   NaN  NaN  NaN        NaN  NaN   \n",
       "75%     270.000000   100.000000    12.139540   NaN  NaN  NaN        NaN  NaN   \n",
       "max    7394.000000   975.000000    96.219539   NaN  NaN  NaN        NaN  NaN   \n",
       "\n",
       "       Arsenic  LR. No  \n",
       "count      0.0     0.0  \n",
       "mean       NaN     NaN  \n",
       "std        NaN     NaN  \n",
       "min        NaN     NaN  \n",
       "25%        NaN     NaN  \n",
       "50%        NaN     NaN  \n",
       "75%        NaN     NaN  \n",
       "max        NaN     NaN  "
      ]
     },
     "execution_count": 8,
     "metadata": {},
     "output_type": "execute_result"
    }
   ],
   "source": [
    "df.describe()"
   ]
  },
  {
   "cell_type": "code",
   "execution_count": 9,
   "id": "456f7396",
   "metadata": {},
   "outputs": [],
   "source": [
    "df1 = df.drop(['SiO2','PO4','TDS','Turbidity','%Na','Arsenic','LR. No'],axis = 1)"
   ]
  },
  {
   "cell_type": "code",
   "execution_count": 10,
   "id": "c33b0028",
   "metadata": {},
   "outputs": [
    {
     "data": {
      "text/html": [
       "<div>\n",
       "<style scoped>\n",
       "    .dataframe tbody tr th:only-of-type {\n",
       "        vertical-align: middle;\n",
       "    }\n",
       "\n",
       "    .dataframe tbody tr th {\n",
       "        vertical-align: top;\n",
       "    }\n",
       "\n",
       "    .dataframe thead th {\n",
       "        text-align: right;\n",
       "    }\n",
       "</style>\n",
       "<table border=\"1\" class=\"dataframe\">\n",
       "  <thead>\n",
       "    <tr style=\"text-align: right;\">\n",
       "      <th></th>\n",
       "      <th>SITE_ID</th>\n",
       "      <th>WRIS ID</th>\n",
       "      <th>LATITUDE</th>\n",
       "      <th>LONGITUDE</th>\n",
       "      <th>SITE_TYPE</th>\n",
       "      <th>STATE_NAME</th>\n",
       "      <th>DISTRICT_NAME</th>\n",
       "      <th>TAHSIL_NAME</th>\n",
       "      <th>BLOCK_NAME</th>\n",
       "      <th>SITE_NAME</th>\n",
       "      <th>...</th>\n",
       "      <th>K</th>\n",
       "      <th>FE</th>\n",
       "      <th>CARBONATE</th>\n",
       "      <th>BICARBONATE</th>\n",
       "      <th>CHLORIDE</th>\n",
       "      <th>SULPHATE</th>\n",
       "      <th>NITRATE</th>\n",
       "      <th>FLUORIDE</th>\n",
       "      <th>SAR</th>\n",
       "      <th>RSC</th>\n",
       "    </tr>\n",
       "  </thead>\n",
       "  <tbody>\n",
       "    <tr>\n",
       "      <th>0</th>\n",
       "      <td>W260200075060001</td>\n",
       "      <td>W13591</td>\n",
       "      <td>26°2'0\" N</td>\n",
       "      <td>75°6'0\" E</td>\n",
       "      <td>Dug Well</td>\n",
       "      <td>Rajasthan</td>\n",
       "      <td>Ajmer</td>\n",
       "      <td>Arain</td>\n",
       "      <td>Arain</td>\n",
       "      <td>Ajagara</td>\n",
       "      <td>...</td>\n",
       "      <td>13</td>\n",
       "      <td>0.55</td>\n",
       "      <td>0</td>\n",
       "      <td>854</td>\n",
       "      <td>1278.0</td>\n",
       "      <td>516.0</td>\n",
       "      <td>7.00</td>\n",
       "      <td>2.59</td>\n",
       "      <td>20.618619</td>\n",
       "      <td>2.609868</td>\n",
       "    </tr>\n",
       "    <tr>\n",
       "      <th>1</th>\n",
       "      <td>W260200075060001</td>\n",
       "      <td>W13591</td>\n",
       "      <td>26°2'0\" N</td>\n",
       "      <td>75°6'0\" E</td>\n",
       "      <td>Dug Well</td>\n",
       "      <td>Rajasthan</td>\n",
       "      <td>Ajmer</td>\n",
       "      <td>Arain</td>\n",
       "      <td>Arain</td>\n",
       "      <td>Ajagara</td>\n",
       "      <td>...</td>\n",
       "      <td>8.8</td>\n",
       "      <td>0.12</td>\n",
       "      <td>0</td>\n",
       "      <td>488</td>\n",
       "      <td>709.0</td>\n",
       "      <td>225.0</td>\n",
       "      <td>11.00</td>\n",
       "      <td>2.16</td>\n",
       "      <td>11.962937</td>\n",
       "      <td>ND</td>\n",
       "    </tr>\n",
       "    <tr>\n",
       "      <th>2</th>\n",
       "      <td>W260200075060001</td>\n",
       "      <td>W13591</td>\n",
       "      <td>26°2'0\" N</td>\n",
       "      <td>75°6'0\" E</td>\n",
       "      <td>Dug Well</td>\n",
       "      <td>Rajasthan</td>\n",
       "      <td>Ajmer</td>\n",
       "      <td>Arain</td>\n",
       "      <td>Arain</td>\n",
       "      <td>Ajagara</td>\n",
       "      <td>...</td>\n",
       "      <td>7.4</td>\n",
       "      <td>0.06</td>\n",
       "      <td>36</td>\n",
       "      <td>427</td>\n",
       "      <td>433.0</td>\n",
       "      <td>165.0</td>\n",
       "      <td>3.42</td>\n",
       "      <td>3.17</td>\n",
       "      <td>12.718459</td>\n",
       "      <td>3.615132</td>\n",
       "    </tr>\n",
       "    <tr>\n",
       "      <th>3</th>\n",
       "      <td>W260200075060001</td>\n",
       "      <td>W13591</td>\n",
       "      <td>26°2'0\" N</td>\n",
       "      <td>75°6'0\" E</td>\n",
       "      <td>Dug Well</td>\n",
       "      <td>Rajasthan</td>\n",
       "      <td>Ajmer</td>\n",
       "      <td>Arain</td>\n",
       "      <td>Arain</td>\n",
       "      <td>Ajagara</td>\n",
       "      <td>...</td>\n",
       "      <td>3</td>\n",
       "      <td>0.62</td>\n",
       "      <td>0</td>\n",
       "      <td>122</td>\n",
       "      <td>21.0</td>\n",
       "      <td>0.0</td>\n",
       "      <td>3.30</td>\n",
       "      <td>0.34</td>\n",
       "      <td>0.608946</td>\n",
       "      <td>0.002303</td>\n",
       "    </tr>\n",
       "    <tr>\n",
       "      <th>4</th>\n",
       "      <td>W260200075060001</td>\n",
       "      <td>W13591</td>\n",
       "      <td>26°2'0\" N</td>\n",
       "      <td>75°6'0\" E</td>\n",
       "      <td>Dug Well</td>\n",
       "      <td>Rajasthan</td>\n",
       "      <td>Ajmer</td>\n",
       "      <td>Arain</td>\n",
       "      <td>Arain</td>\n",
       "      <td>Ajagara</td>\n",
       "      <td>...</td>\n",
       "      <td>7.6</td>\n",
       "      <td>0.85</td>\n",
       "      <td>0</td>\n",
       "      <td>146</td>\n",
       "      <td>4360.0</td>\n",
       "      <td>518.0</td>\n",
       "      <td>8.30</td>\n",
       "      <td>2.4</td>\n",
       "      <td>12.037908</td>\n",
       "      <td>ND</td>\n",
       "    </tr>\n",
       "  </tbody>\n",
       "</table>\n",
       "<p>5 rows × 30 columns</p>\n",
       "</div>"
      ],
      "text/plain": [
       "            SITE_ID WRIS ID   LATITUDE  LONGITUDE SITE_TYPE STATE_NAME  \\\n",
       "0  W260200075060001  W13591  26°2'0\" N  75°6'0\" E  Dug Well  Rajasthan   \n",
       "1  W260200075060001  W13591  26°2'0\" N  75°6'0\" E  Dug Well  Rajasthan   \n",
       "2  W260200075060001  W13591  26°2'0\" N  75°6'0\" E  Dug Well  Rajasthan   \n",
       "3  W260200075060001  W13591  26°2'0\" N  75°6'0\" E  Dug Well  Rajasthan   \n",
       "4  W260200075060001  W13591  26°2'0\" N  75°6'0\" E  Dug Well  Rajasthan   \n",
       "\n",
       "  DISTRICT_NAME TAHSIL_NAME BLOCK_NAME SITE_NAME  ...    K    FE  CARBONATE  \\\n",
       "0         Ajmer       Arain      Arain   Ajagara  ...   13  0.55          0   \n",
       "1         Ajmer       Arain      Arain   Ajagara  ...  8.8  0.12          0   \n",
       "2         Ajmer       Arain      Arain   Ajagara  ...  7.4  0.06         36   \n",
       "3         Ajmer       Arain      Arain   Ajagara  ...    3  0.62          0   \n",
       "4         Ajmer       Arain      Arain   Ajagara  ...  7.6  0.85          0   \n",
       "\n",
       "   BICARBONATE  CHLORIDE  SULPHATE  NITRATE  FLUORIDE        SAR       RSC  \n",
       "0          854    1278.0     516.0     7.00      2.59  20.618619  2.609868  \n",
       "1          488     709.0     225.0    11.00      2.16  11.962937        ND  \n",
       "2          427     433.0     165.0     3.42      3.17  12.718459  3.615132  \n",
       "3          122      21.0       0.0     3.30      0.34   0.608946  0.002303  \n",
       "4          146    4360.0     518.0     8.30       2.4  12.037908        ND  \n",
       "\n",
       "[5 rows x 30 columns]"
      ]
     },
     "execution_count": 10,
     "metadata": {},
     "output_type": "execute_result"
    }
   ],
   "source": [
    "df1.head()"
   ]
  },
  {
   "cell_type": "code",
   "execution_count": 11,
   "id": "70f2773e",
   "metadata": {},
   "outputs": [
    {
     "data": {
      "text/html": [
       "<div>\n",
       "<style scoped>\n",
       "    .dataframe tbody tr th:only-of-type {\n",
       "        vertical-align: middle;\n",
       "    }\n",
       "\n",
       "    .dataframe tbody tr th {\n",
       "        vertical-align: top;\n",
       "    }\n",
       "\n",
       "    .dataframe thead th {\n",
       "        text-align: right;\n",
       "    }\n",
       "</style>\n",
       "<table border=\"1\" class=\"dataframe\">\n",
       "  <thead>\n",
       "    <tr style=\"text-align: right;\">\n",
       "      <th></th>\n",
       "      <th>year</th>\n",
       "      <th>PH</th>\n",
       "      <th>EC</th>\n",
       "      <th>TH</th>\n",
       "      <th>TOT_ALKALINITY</th>\n",
       "      <th>CA</th>\n",
       "      <th>MG</th>\n",
       "      <th>NA</th>\n",
       "      <th>BICARBONATE</th>\n",
       "      <th>CHLORIDE</th>\n",
       "      <th>SULPHATE</th>\n",
       "      <th>NITRATE</th>\n",
       "      <th>SAR</th>\n",
       "    </tr>\n",
       "  </thead>\n",
       "  <tbody>\n",
       "    <tr>\n",
       "      <th>count</th>\n",
       "      <td>5148.000000</td>\n",
       "      <td>5148.000000</td>\n",
       "      <td>5148.000000</td>\n",
       "      <td>5148.000000</td>\n",
       "      <td>5148.000000</td>\n",
       "      <td>5148.000000</td>\n",
       "      <td>5148.000000</td>\n",
       "      <td>5148.000000</td>\n",
       "      <td>5148.000000</td>\n",
       "      <td>5148.000000</td>\n",
       "      <td>5148.000000</td>\n",
       "      <td>5148.000000</td>\n",
       "      <td>5148.000000</td>\n",
       "    </tr>\n",
       "    <tr>\n",
       "      <th>mean</th>\n",
       "      <td>2004.573427</td>\n",
       "      <td>7.979256</td>\n",
       "      <td>2493.115773</td>\n",
       "      <td>458.100039</td>\n",
       "      <td>353.659042</td>\n",
       "      <td>80.011072</td>\n",
       "      <td>63.726813</td>\n",
       "      <td>402.915998</td>\n",
       "      <td>416.867716</td>\n",
       "      <td>496.264782</td>\n",
       "      <td>230.024623</td>\n",
       "      <td>84.503944</td>\n",
       "      <td>8.442831</td>\n",
       "    </tr>\n",
       "    <tr>\n",
       "      <th>std</th>\n",
       "      <td>3.021561</td>\n",
       "      <td>0.427663</td>\n",
       "      <td>2355.542538</td>\n",
       "      <td>444.976461</td>\n",
       "      <td>195.613674</td>\n",
       "      <td>81.841885</td>\n",
       "      <td>74.835005</td>\n",
       "      <td>485.445243</td>\n",
       "      <td>235.060387</td>\n",
       "      <td>731.993080</td>\n",
       "      <td>386.986394</td>\n",
       "      <td>130.163980</td>\n",
       "      <td>8.281312</td>\n",
       "    </tr>\n",
       "    <tr>\n",
       "      <th>min</th>\n",
       "      <td>2000.000000</td>\n",
       "      <td>6.300000</td>\n",
       "      <td>135.000000</td>\n",
       "      <td>10.000000</td>\n",
       "      <td>8.196721</td>\n",
       "      <td>2.000000</td>\n",
       "      <td>1.000000</td>\n",
       "      <td>2.350000</td>\n",
       "      <td>10.000000</td>\n",
       "      <td>7.100000</td>\n",
       "      <td>0.000000</td>\n",
       "      <td>0.000000</td>\n",
       "      <td>0.045261</td>\n",
       "    </tr>\n",
       "    <tr>\n",
       "      <th>25%</th>\n",
       "      <td>2002.000000</td>\n",
       "      <td>7.700000</td>\n",
       "      <td>983.750000</td>\n",
       "      <td>215.000000</td>\n",
       "      <td>230.327869</td>\n",
       "      <td>36.000000</td>\n",
       "      <td>24.000000</td>\n",
       "      <td>96.000000</td>\n",
       "      <td>268.000000</td>\n",
       "      <td>85.000000</td>\n",
       "      <td>45.000000</td>\n",
       "      <td>13.000000</td>\n",
       "      <td>2.352493</td>\n",
       "    </tr>\n",
       "    <tr>\n",
       "      <th>50%</th>\n",
       "      <td>2005.000000</td>\n",
       "      <td>8.000000</td>\n",
       "      <td>1690.000000</td>\n",
       "      <td>320.000000</td>\n",
       "      <td>309.836066</td>\n",
       "      <td>60.000000</td>\n",
       "      <td>39.000000</td>\n",
       "      <td>235.000000</td>\n",
       "      <td>366.000000</td>\n",
       "      <td>220.000000</td>\n",
       "      <td>113.000000</td>\n",
       "      <td>35.000000</td>\n",
       "      <td>5.668874</td>\n",
       "    </tr>\n",
       "    <tr>\n",
       "      <th>75%</th>\n",
       "      <td>2007.000000</td>\n",
       "      <td>8.250000</td>\n",
       "      <td>3182.500000</td>\n",
       "      <td>515.500000</td>\n",
       "      <td>430.000000</td>\n",
       "      <td>92.000000</td>\n",
       "      <td>73.000000</td>\n",
       "      <td>535.000000</td>\n",
       "      <td>507.500000</td>\n",
       "      <td>611.000000</td>\n",
       "      <td>270.000000</td>\n",
       "      <td>100.000000</td>\n",
       "      <td>12.139540</td>\n",
       "    </tr>\n",
       "    <tr>\n",
       "      <th>max</th>\n",
       "      <td>2009.000000</td>\n",
       "      <td>10.990000</td>\n",
       "      <td>26785.000000</td>\n",
       "      <td>5120.000000</td>\n",
       "      <td>3814.754098</td>\n",
       "      <td>1000.000000</td>\n",
       "      <td>870.000000</td>\n",
       "      <td>5960.000000</td>\n",
       "      <td>4654.000000</td>\n",
       "      <td>8789.000000</td>\n",
       "      <td>7394.000000</td>\n",
       "      <td>975.000000</td>\n",
       "      <td>96.219539</td>\n",
       "    </tr>\n",
       "  </tbody>\n",
       "</table>\n",
       "</div>"
      ],
      "text/plain": [
       "              year           PH            EC           TH  TOT_ALKALINITY  \\\n",
       "count  5148.000000  5148.000000   5148.000000  5148.000000     5148.000000   \n",
       "mean   2004.573427     7.979256   2493.115773   458.100039      353.659042   \n",
       "std       3.021561     0.427663   2355.542538   444.976461      195.613674   \n",
       "min    2000.000000     6.300000    135.000000    10.000000        8.196721   \n",
       "25%    2002.000000     7.700000    983.750000   215.000000      230.327869   \n",
       "50%    2005.000000     8.000000   1690.000000   320.000000      309.836066   \n",
       "75%    2007.000000     8.250000   3182.500000   515.500000      430.000000   \n",
       "max    2009.000000    10.990000  26785.000000  5120.000000     3814.754098   \n",
       "\n",
       "                CA           MG           NA  BICARBONATE     CHLORIDE  \\\n",
       "count  5148.000000  5148.000000  5148.000000  5148.000000  5148.000000   \n",
       "mean     80.011072    63.726813   402.915998   416.867716   496.264782   \n",
       "std      81.841885    74.835005   485.445243   235.060387   731.993080   \n",
       "min       2.000000     1.000000     2.350000    10.000000     7.100000   \n",
       "25%      36.000000    24.000000    96.000000   268.000000    85.000000   \n",
       "50%      60.000000    39.000000   235.000000   366.000000   220.000000   \n",
       "75%      92.000000    73.000000   535.000000   507.500000   611.000000   \n",
       "max    1000.000000   870.000000  5960.000000  4654.000000  8789.000000   \n",
       "\n",
       "          SULPHATE      NITRATE          SAR  \n",
       "count  5148.000000  5148.000000  5148.000000  \n",
       "mean    230.024623    84.503944     8.442831  \n",
       "std     386.986394   130.163980     8.281312  \n",
       "min       0.000000     0.000000     0.045261  \n",
       "25%      45.000000    13.000000     2.352493  \n",
       "50%     113.000000    35.000000     5.668874  \n",
       "75%     270.000000   100.000000    12.139540  \n",
       "max    7394.000000   975.000000    96.219539  "
      ]
     },
     "execution_count": 11,
     "metadata": {},
     "output_type": "execute_result"
    }
   ],
   "source": [
    "df1.describe()"
   ]
  },
  {
   "cell_type": "code",
   "execution_count": 12,
   "id": "96ecefdc",
   "metadata": {},
   "outputs": [],
   "source": [
    "df2 = df1.drop([\"year\"],axis = 1)"
   ]
  },
  {
   "cell_type": "code",
   "execution_count": 13,
   "id": "543a31a4",
   "metadata": {},
   "outputs": [
    {
     "data": {
      "text/html": [
       "<div>\n",
       "<style scoped>\n",
       "    .dataframe tbody tr th:only-of-type {\n",
       "        vertical-align: middle;\n",
       "    }\n",
       "\n",
       "    .dataframe tbody tr th {\n",
       "        vertical-align: top;\n",
       "    }\n",
       "\n",
       "    .dataframe thead th {\n",
       "        text-align: right;\n",
       "    }\n",
       "</style>\n",
       "<table border=\"1\" class=\"dataframe\">\n",
       "  <thead>\n",
       "    <tr style=\"text-align: right;\">\n",
       "      <th></th>\n",
       "      <th>count</th>\n",
       "      <th>mean</th>\n",
       "      <th>std</th>\n",
       "      <th>min</th>\n",
       "      <th>25%</th>\n",
       "      <th>50%</th>\n",
       "      <th>75%</th>\n",
       "      <th>max</th>\n",
       "    </tr>\n",
       "  </thead>\n",
       "  <tbody>\n",
       "    <tr>\n",
       "      <th>PH</th>\n",
       "      <td>5148.0</td>\n",
       "      <td>7.979256</td>\n",
       "      <td>0.427663</td>\n",
       "      <td>6.300000</td>\n",
       "      <td>7.700000</td>\n",
       "      <td>8.000000</td>\n",
       "      <td>8.25000</td>\n",
       "      <td>10.990000</td>\n",
       "    </tr>\n",
       "    <tr>\n",
       "      <th>EC</th>\n",
       "      <td>5148.0</td>\n",
       "      <td>2493.115773</td>\n",
       "      <td>2355.542538</td>\n",
       "      <td>135.000000</td>\n",
       "      <td>983.750000</td>\n",
       "      <td>1690.000000</td>\n",
       "      <td>3182.50000</td>\n",
       "      <td>26785.000000</td>\n",
       "    </tr>\n",
       "    <tr>\n",
       "      <th>TH</th>\n",
       "      <td>5148.0</td>\n",
       "      <td>458.100039</td>\n",
       "      <td>444.976461</td>\n",
       "      <td>10.000000</td>\n",
       "      <td>215.000000</td>\n",
       "      <td>320.000000</td>\n",
       "      <td>515.50000</td>\n",
       "      <td>5120.000000</td>\n",
       "    </tr>\n",
       "    <tr>\n",
       "      <th>TOT_ALKALINITY</th>\n",
       "      <td>5148.0</td>\n",
       "      <td>353.659042</td>\n",
       "      <td>195.613674</td>\n",
       "      <td>8.196721</td>\n",
       "      <td>230.327869</td>\n",
       "      <td>309.836066</td>\n",
       "      <td>430.00000</td>\n",
       "      <td>3814.754098</td>\n",
       "    </tr>\n",
       "    <tr>\n",
       "      <th>CA</th>\n",
       "      <td>5148.0</td>\n",
       "      <td>80.011072</td>\n",
       "      <td>81.841885</td>\n",
       "      <td>2.000000</td>\n",
       "      <td>36.000000</td>\n",
       "      <td>60.000000</td>\n",
       "      <td>92.00000</td>\n",
       "      <td>1000.000000</td>\n",
       "    </tr>\n",
       "    <tr>\n",
       "      <th>MG</th>\n",
       "      <td>5148.0</td>\n",
       "      <td>63.726813</td>\n",
       "      <td>74.835005</td>\n",
       "      <td>1.000000</td>\n",
       "      <td>24.000000</td>\n",
       "      <td>39.000000</td>\n",
       "      <td>73.00000</td>\n",
       "      <td>870.000000</td>\n",
       "    </tr>\n",
       "    <tr>\n",
       "      <th>NA</th>\n",
       "      <td>5148.0</td>\n",
       "      <td>402.915998</td>\n",
       "      <td>485.445243</td>\n",
       "      <td>2.350000</td>\n",
       "      <td>96.000000</td>\n",
       "      <td>235.000000</td>\n",
       "      <td>535.00000</td>\n",
       "      <td>5960.000000</td>\n",
       "    </tr>\n",
       "    <tr>\n",
       "      <th>BICARBONATE</th>\n",
       "      <td>5148.0</td>\n",
       "      <td>416.867716</td>\n",
       "      <td>235.060387</td>\n",
       "      <td>10.000000</td>\n",
       "      <td>268.000000</td>\n",
       "      <td>366.000000</td>\n",
       "      <td>507.50000</td>\n",
       "      <td>4654.000000</td>\n",
       "    </tr>\n",
       "    <tr>\n",
       "      <th>CHLORIDE</th>\n",
       "      <td>5148.0</td>\n",
       "      <td>496.264782</td>\n",
       "      <td>731.993080</td>\n",
       "      <td>7.100000</td>\n",
       "      <td>85.000000</td>\n",
       "      <td>220.000000</td>\n",
       "      <td>611.00000</td>\n",
       "      <td>8789.000000</td>\n",
       "    </tr>\n",
       "    <tr>\n",
       "      <th>SULPHATE</th>\n",
       "      <td>5148.0</td>\n",
       "      <td>230.024623</td>\n",
       "      <td>386.986394</td>\n",
       "      <td>0.000000</td>\n",
       "      <td>45.000000</td>\n",
       "      <td>113.000000</td>\n",
       "      <td>270.00000</td>\n",
       "      <td>7394.000000</td>\n",
       "    </tr>\n",
       "    <tr>\n",
       "      <th>NITRATE</th>\n",
       "      <td>5148.0</td>\n",
       "      <td>84.503944</td>\n",
       "      <td>130.163980</td>\n",
       "      <td>0.000000</td>\n",
       "      <td>13.000000</td>\n",
       "      <td>35.000000</td>\n",
       "      <td>100.00000</td>\n",
       "      <td>975.000000</td>\n",
       "    </tr>\n",
       "    <tr>\n",
       "      <th>SAR</th>\n",
       "      <td>5148.0</td>\n",
       "      <td>8.442831</td>\n",
       "      <td>8.281312</td>\n",
       "      <td>0.045261</td>\n",
       "      <td>2.352493</td>\n",
       "      <td>5.668874</td>\n",
       "      <td>12.13954</td>\n",
       "      <td>96.219539</td>\n",
       "    </tr>\n",
       "  </tbody>\n",
       "</table>\n",
       "</div>"
      ],
      "text/plain": [
       "                 count         mean          std         min         25%  \\\n",
       "PH              5148.0     7.979256     0.427663    6.300000    7.700000   \n",
       "EC              5148.0  2493.115773  2355.542538  135.000000  983.750000   \n",
       "TH              5148.0   458.100039   444.976461   10.000000  215.000000   \n",
       "TOT_ALKALINITY  5148.0   353.659042   195.613674    8.196721  230.327869   \n",
       "CA              5148.0    80.011072    81.841885    2.000000   36.000000   \n",
       "MG              5148.0    63.726813    74.835005    1.000000   24.000000   \n",
       "NA              5148.0   402.915998   485.445243    2.350000   96.000000   \n",
       "BICARBONATE     5148.0   416.867716   235.060387   10.000000  268.000000   \n",
       "CHLORIDE        5148.0   496.264782   731.993080    7.100000   85.000000   \n",
       "SULPHATE        5148.0   230.024623   386.986394    0.000000   45.000000   \n",
       "NITRATE         5148.0    84.503944   130.163980    0.000000   13.000000   \n",
       "SAR             5148.0     8.442831     8.281312    0.045261    2.352493   \n",
       "\n",
       "                        50%         75%           max  \n",
       "PH                 8.000000     8.25000     10.990000  \n",
       "EC              1690.000000  3182.50000  26785.000000  \n",
       "TH               320.000000   515.50000   5120.000000  \n",
       "TOT_ALKALINITY   309.836066   430.00000   3814.754098  \n",
       "CA                60.000000    92.00000   1000.000000  \n",
       "MG                39.000000    73.00000    870.000000  \n",
       "NA               235.000000   535.00000   5960.000000  \n",
       "BICARBONATE      366.000000   507.50000   4654.000000  \n",
       "CHLORIDE         220.000000   611.00000   8789.000000  \n",
       "SULPHATE         113.000000   270.00000   7394.000000  \n",
       "NITRATE           35.000000   100.00000    975.000000  \n",
       "SAR                5.668874    12.13954     96.219539  "
      ]
     },
     "execution_count": 13,
     "metadata": {},
     "output_type": "execute_result"
    }
   ],
   "source": [
    "df2.describe().transpose()"
   ]
  },
  {
   "cell_type": "code",
   "execution_count": 14,
   "id": "7f836576",
   "metadata": {},
   "outputs": [],
   "source": [
    "import seaborn as sns"
   ]
  },
  {
   "cell_type": "code",
   "execution_count": 15,
   "id": "8033d273",
   "metadata": {},
   "outputs": [
    {
     "data": {
      "text/plain": [
       "<AxesSubplot:>"
      ]
     },
     "execution_count": 15,
     "metadata": {},
     "output_type": "execute_result"
    },
    {
     "data": {
      "image/png": "[encoded data removed]",
      "text/plain": [
       "<Figure size 432x288 with 2 Axes>"
      ]
     },
     "metadata": {
      "needs_background": "light"
     },
     "output_type": "display_data"
    }
   ],
   "source": [
    "sns.heatmap(df2.corr())"
   ]
  },
  {
   "cell_type": "code",
   "execution_count": 16,
   "id": "6d9a592b",
   "metadata": {},
   "outputs": [],
   "source": [
    "import matplotlib.pyplot as plt"
   ]
  },
  {
   "cell_type": "code",
   "execution_count": 17,
   "id": "4bb4c59e",
   "metadata": {},
   "outputs": [
    {
     "data": {
      "text/plain": [
       "<AxesSubplot:>"
      ]
     },
     "execution_count": 17,
     "metadata": {},
     "output_type": "execute_result"
    },
    {
     "data": {
      "image/png": "[encoded data removed]",
      "text/plain": [
       "<Figure size 1008x504 with 2 Axes>"
      ]
     },
     "metadata": {
      "needs_background": "light"
     },
     "output_type": "display_data"
    }
   ],
   "source": [
    "plt.figure(figsize=(14,7))\n",
    "sns.heatmap(data=df2.corr(), annot=True)"
   ]
  },
  {
   "cell_type": "code",
   "execution_count": 18,
   "id": "2dfe1800",
   "metadata": {},
   "outputs": [],
   "source": [
    "def plot(column):\n",
    "    sns.histplot(df[column])"
   ]
  },
  {
   "cell_type": "code",
   "execution_count": 19,
   "id": "3dcf0572",
   "metadata": {},
   "outputs": [
    {
     "data": {
      "image/png": "[encoded data removed]",
      "text/plain": [
       "<Figure size 432x288 with 1 Axes>"
      ]
     },
     "metadata": {
      "needs_background": "light"
     },
     "output_type": "display_data"
    }
   ],
   "source": [
    "plot(\"PH\")"
   ]
  },
  {
   "cell_type": "code",
   "execution_count": 20,
   "id": "1b6196ab",
   "metadata": {},
   "outputs": [
    {
     "data": {
      "image/png": "[encoded data removed]",
      "text/plain": [
       "<Figure size 432x288 with 1 Axes>"
      ]
     },
     "metadata": {
      "needs_background": "light"
     },
     "output_type": "display_data"
    }
   ],
   "source": [
    "plot(\"EC\")"
   ]
  },
  {
   "cell_type": "code",
   "execution_count": 21,
   "id": "704c823d",
   "metadata": {},
   "outputs": [
    {
     "data": {
      "image/png": "[encoded data removed]",
      "text/plain": [
       "<Figure size 432x288 with 1 Axes>"
      ]
     },
     "metadata": {
      "needs_background": "light"
     },
     "output_type": "display_data"
    }
   ],
   "source": [
    "plot(\"TH\")"
   ]
  },
  {
   "cell_type": "code",
   "execution_count": 22,
   "id": "6a464f15",
   "metadata": {},
   "outputs": [
    {
     "data": {
      "image/png": "[encoded data removed]",
      "text/plain": [
       "<Figure size 432x288 with 1 Axes>"
      ]
     },
     "metadata": {
      "needs_background": "light"
     },
     "output_type": "display_data"
    }
   ],
   "source": [
    "plot(\"TOT_ALKALINITY\")"
   ]
  },
  {
   "cell_type": "code",
   "execution_count": 23,
   "id": "f1e4a150",
   "metadata": {},
   "outputs": [
    {
     "data": {
      "image/png": "[encoded data removed]",
      "text/plain": [
       "<Figure size 432x288 with 1 Axes>"
      ]
     },
     "metadata": {
      "needs_background": "light"
     },
     "output_type": "display_data"
    }
   ],
   "source": [
    "plot(\"CA\")"
   ]
  },
  {
   "cell_type": "code",
   "execution_count": 24,
   "id": "d64cfa16",
   "metadata": {},
   "outputs": [
    {
     "data": {
      "image/png": "[encoded data removed]",
      "text/plain": [
       "<Figure size 432x288 with 1 Axes>"
      ]
     },
     "metadata": {
      "needs_background": "light"
     },
     "output_type": "display_data"
    }
   ],
   "source": [
    "plot(\"MG\")"
   ]
  },
  {
   "cell_type": "code",
   "execution_count": 25,
   "id": "266f3a0d",
   "metadata": {},
   "outputs": [
    {
     "data": {
      "image/png": "[encoded data removed]",
      "text/plain": [
       "<Figure size 432x288 with 1 Axes>"
      ]
     },
     "metadata": {
      "needs_background": "light"
     },
     "output_type": "display_data"
    }
   ],
   "source": [
    "plot(\"NA\")"
   ]
  },
  {
   "cell_type": "code",
   "execution_count": 26,
   "id": "4e6c3c23",
   "metadata": {},
   "outputs": [
    {
     "data": {
      "image/png": "[encoded data removed]",
      "text/plain": [
       "<Figure size 432x288 with 1 Axes>"
      ]
     },
     "metadata": {
      "needs_background": "light"
     },
     "output_type": "display_data"
    }
   ],
   "source": [
    "plot(\"BICARBONATE\")"
   ]
  },
  {
   "cell_type": "code",
   "execution_count": 27,
   "id": "8b2219da",
   "metadata": {},
   "outputs": [
    {
     "data": {
      "image/png": "[encoded data removed]",
      "text/plain": [
       "<Figure size 432x288 with 1 Axes>"
      ]
     },
     "metadata": {
      "needs_background": "light"
     },
     "output_type": "display_data"
    }
   ],
   "source": [
    "plot(\"CHLORIDE\")"
   ]
  },
  {
   "cell_type": "code",
   "execution_count": 28,
   "id": "22b2191d",
   "metadata": {},
   "outputs": [
    {
     "data": {
      "image/png": "[encoded data removed]",
      "text/plain": [
       "<Figure size 432x288 with 1 Axes>"
      ]
     },
     "metadata": {
      "needs_background": "light"
     },
     "output_type": "display_data"
    }
   ],
   "source": [
    "plot(\"SULPHATE\")"
   ]
  },
  {
   "cell_type": "code",
   "execution_count": 29,
   "id": "f82eab5f",
   "metadata": {},
   "outputs": [
    {
     "data": {
      "image/png": "[encoded data removed]",
      "text/plain": [
       "<Figure size 432x288 with 1 Axes>"
      ]
     },
     "metadata": {
      "needs_background": "light"
     },
     "output_type": "display_data"
    }
   ],
   "source": [
    "plot(\"NITRATE\")"
   ]
  },
  {
   "cell_type": "code",
   "execution_count": 30,
   "id": "352a72e7",
   "metadata": {},
   "outputs": [
    {
     "data": {
      "image/png": "[encoded data removed]",
      "text/plain": [
       "<Figure size 432x288 with 1 Axes>"
      ]
     },
     "metadata": {
      "needs_background": "light"
     },
     "output_type": "display_data"
    }
   ],
   "source": [
    "plot(\"SAR\")"
   ]
  },
  {
   "cell_type": "code",
   "execution_count": 31,
   "id": "0a990f1d",
   "metadata": {},
   "outputs": [],
   "source": [
    "df2[\"QipH\"] = 100*(df2[\"PH\"] - 7)/(7.5-7)"
   ]
  },
  {
   "cell_type": "code",
   "execution_count": 32,
   "id": "4bb8bba9",
   "metadata": {},
   "outputs": [],
   "source": [
    "df2[\"Qiec\"] = 100*(df2[\"EC\"] - 0)/(300)"
   ]
  },
  {
   "cell_type": "code",
   "execution_count": 33,
   "id": "ee3678cf",
   "metadata": {},
   "outputs": [],
   "source": [
    "df2[\"Qith\"] = 100*(df2[\"TH\"]-0)/(400)"
   ]
  },
  {
   "cell_type": "code",
   "execution_count": 34,
   "id": "b40c2896",
   "metadata": {},
   "outputs": [],
   "source": [
    "df2[\"qiTA\"] = 100*(df2[\"TOT_ALKALINITY\"]-0)/(400)"
   ]
  },
  {
   "cell_type": "code",
   "execution_count": 35,
   "id": "23659c04",
   "metadata": {},
   "outputs": [],
   "source": [
    "df2[\"qica\"] = 100*(df2[\"CA\"]-0)/(150)"
   ]
  },
  {
   "cell_type": "code",
   "execution_count": 36,
   "id": "76f2b8ca",
   "metadata": {},
   "outputs": [],
   "source": [
    "df2[\"qimg\"] = 100*(df[\"MG\"] - 0)/(60)"
   ]
  },
  {
   "cell_type": "code",
   "execution_count": 37,
   "id": "3cb9fdeb",
   "metadata": {},
   "outputs": [],
   "source": [
    "df2[\"qina\"] = 100*(df2[\"NA\"]-0)/(120)"
   ]
  },
  {
   "cell_type": "code",
   "execution_count": 38,
   "id": "5ca919a1",
   "metadata": {},
   "outputs": [],
   "source": [
    "df2[\"qibc\"] = 100*(df2[\"BICARBONATE\"]-0)/(400)"
   ]
  },
  {
   "cell_type": "code",
   "execution_count": 39,
   "id": "1e9da3f4",
   "metadata": {},
   "outputs": [],
   "source": [
    "df2[\"qic\"] = 100*(df2[\"CHLORIDE\"]-0)/(500)"
   ]
  },
  {
   "cell_type": "code",
   "execution_count": 40,
   "id": "ddab9532",
   "metadata": {},
   "outputs": [],
   "source": [
    "df2[\"sulfate\"] = 100*(df2[\"SULPHATE\"]-0)/(300)"
   ]
  },
  {
   "cell_type": "code",
   "execution_count": 41,
   "id": "5f47a371",
   "metadata": {},
   "outputs": [],
   "source": [
    "df2[\"qin\"] = 100*(df2[\"NITRATE\"] - 0)/(45)"
   ]
  },
  {
   "cell_type": "code",
   "execution_count": 42,
   "id": "337988fe",
   "metadata": {},
   "outputs": [],
   "source": [
    "df2[\"qisar\"] = 100*(df2[\"SAR\"] - 0)/(6)"
   ]
  },
  {
   "cell_type": "code",
   "execution_count": 43,
   "id": "cedd4c52",
   "metadata": {},
   "outputs": [],
   "source": [
    "k2 = 1/(7.5 + 300 + 400 + 400 + 150 + 60 + 120 + 400 + 500 + 300 + 45 + 6)"
   ]
  },
  {
   "cell_type": "code",
   "execution_count": 44,
   "id": "c9d756d2",
   "metadata": {},
   "outputs": [],
   "source": [
    "wi_ph = k2/(7.5)"
   ]
  },
  {
   "cell_type": "code",
   "execution_count": 45,
   "id": "6ff89065",
   "metadata": {},
   "outputs": [],
   "source": [
    "wi_ec = k2/300"
   ]
  },
  {
   "cell_type": "code",
   "execution_count": 46,
   "id": "2cf3a6de",
   "metadata": {},
   "outputs": [],
   "source": [
    "wiTH = k2/400"
   ]
  },
  {
   "cell_type": "code",
   "execution_count": 47,
   "id": "81e05974",
   "metadata": {},
   "outputs": [],
   "source": [
    "wita = k2/400"
   ]
  },
  {
   "cell_type": "code",
   "execution_count": 48,
   "id": "b70a7ff3",
   "metadata": {},
   "outputs": [],
   "source": [
    "wica = k2/150"
   ]
  },
  {
   "cell_type": "code",
   "execution_count": 49,
   "id": "3d8ce339",
   "metadata": {},
   "outputs": [],
   "source": [
    "wimg = k2/60"
   ]
  },
  {
   "cell_type": "code",
   "execution_count": 50,
   "id": "c73161e8",
   "metadata": {},
   "outputs": [],
   "source": [
    "wika = k2/120"
   ]
  },
  {
   "cell_type": "code",
   "execution_count": 51,
   "id": "6371ee11",
   "metadata": {},
   "outputs": [],
   "source": [
    "wicl = k2/500"
   ]
  },
  {
   "cell_type": "code",
   "execution_count": 52,
   "id": "c9e78ccd",
   "metadata": {},
   "outputs": [],
   "source": [
    "wicarbonate = k2/400"
   ]
  },
  {
   "cell_type": "code",
   "execution_count": 53,
   "id": "229d22ab",
   "metadata": {},
   "outputs": [],
   "source": [
    "wint = k2/45"
   ]
  },
  {
   "cell_type": "code",
   "execution_count": 54,
   "id": "d1818bc7",
   "metadata": {},
   "outputs": [],
   "source": [
    "wisulf = k2/300"
   ]
  },
  {
   "cell_type": "code",
   "execution_count": 55,
   "id": "980fd2ab",
   "metadata": {},
   "outputs": [],
   "source": [
    "wisar = k2/6"
   ]
  },
  {
   "cell_type": "code",
   "execution_count": 56,
   "id": "c98b0774",
   "metadata": {},
   "outputs": [],
   "source": [
    "df2[\"wqi\"] = (df2[\"QipH\"]*wi_ph +df2[\"Qiec\"]*wi_ec + df2[\"Qith\"]*wiTH + df2[\"qiTA\"]*wita + df2[\"qica\"]*wica + df2[\"qimg\"]*wimg + df2[\"qina\"]*wika + df2[\"qibc\"]*wicarbonate + df2[\"sulfate\"]*wisulf + df2[\"qic\"]*wicl +df2[\"qin\"]*wint + df2[\"qisar\"]*wisar)/(wi_ph + wi_ec+wiTH+wita+wica+wimg+wika+wicl+wicarbonate+wint+wisulf+wisar) "
   ]
  },
  {
   "cell_type": "code",
   "execution_count": 57,
   "id": "34602071",
   "metadata": {},
   "outputs": [
    {
     "data": {
      "text/plain": [
       "0       265.622241\n",
       "1       165.077233\n",
       "2       226.089073\n",
       "3        65.436773\n",
       "4       210.056897\n",
       "           ...    \n",
       "5143    140.567139\n",
       "5144    131.728115\n",
       "5145    116.607815\n",
       "5146    130.358076\n",
       "5147     91.458764\n",
       "Name: wqi, Length: 5148, dtype: float64"
      ]
     },
     "execution_count": 57,
     "metadata": {},
     "output_type": "execute_result"
    }
   ],
   "source": [
    "df2[\"wqi\"]df2[\"wqi\"] = (df2[\"QipH\"]*wi_ph +df2[\"Qiec\"]*wi_ec + df2[\"Qith\"]*wiTH + df2[\"qiTA\"]*wita + df2[\"qica\"]*wica + df2[\"qimg\"]*wimg + df2[\"qina\"]*wika + df2[\"qibc\"]*wicarbonate + df2[\"sulfate\"]*wisulf + df2[\"qic\"]*wicl +df2[\"qin\"]*wint + df2[\"qisar\"]*wisar)/(wi_ph + wi_ec+wiTH+wita+wica+wimg+wika+wicl+wicarbonate+wint+wisulf+wisar) "
   ]
  },
  {
   "cell_type": "code",
   "execution_count": 58,
   "id": "9b60c7df",
   "metadata": {},
   "outputs": [
    {
     "ename": "ValueError",
     "evalue": "The truth value of a Series is ambiguous. Use a.empty, a.bool(), a.item(), a.any() or a.all().",
     "output_type": "error",
     "traceback": [
      "\u001b[1;31m---------------------------------------------------------------------------\u001b[0m",
      "\u001b[1;31mValueError\u001b[0m                                Traceback (most recent call last)",
      "Input \u001b[1;32mIn [58]\u001b[0m, in \u001b[0;36m<cell line: 1>\u001b[1;34m()\u001b[0m\n\u001b[1;32m----> 1\u001b[0m \u001b[38;5;28;01mif\u001b[39;00m(\u001b[43mdf2\u001b[49m\u001b[43m[\u001b[49m\u001b[38;5;124;43m\"\u001b[39;49m\u001b[38;5;124;43mwqi\u001b[39;49m\u001b[38;5;124;43m\"\u001b[39;49m\u001b[43m]\u001b[49m\u001b[43m \u001b[49m\u001b[38;5;241;43m<\u001b[39;49m\u001b[43m \u001b[49m\u001b[38;5;241;43m25\u001b[39;49m):\n\u001b[0;32m      2\u001b[0m     df2[\u001b[38;5;124m\"\u001b[39m\u001b[38;5;124mwqc\u001b[39m\u001b[38;5;124m\"\u001b[39m] \u001b[38;5;241m=\u001b[39m \u001b[38;5;124m\"\u001b[39m\u001b[38;5;124mExcellent\u001b[39m\u001b[38;5;124m\"\u001b[39m\n",
      "File \u001b[1;32m~\\anaconda3\\lib\\site-packages\\pandas\\core\\generic.py:1527\u001b[0m, in \u001b[0;36mNDFrame.__nonzero__\u001b[1;34m(self)\u001b[0m\n\u001b[0;32m   1525\u001b[0m \u001b[38;5;129m@final\u001b[39m\n\u001b[0;32m   1526\u001b[0m \u001b[38;5;28;01mdef\u001b[39;00m \u001b[38;5;21m__nonzero__\u001b[39m(\u001b[38;5;28mself\u001b[39m):\n\u001b[1;32m-> 1527\u001b[0m     \u001b[38;5;28;01mraise\u001b[39;00m \u001b[38;5;167;01mValueError\u001b[39;00m(\n\u001b[0;32m   1528\u001b[0m         \u001b[38;5;124mf\u001b[39m\u001b[38;5;124m\"\u001b[39m\u001b[38;5;124mThe truth value of a \u001b[39m\u001b[38;5;132;01m{\u001b[39;00m\u001b[38;5;28mtype\u001b[39m(\u001b[38;5;28mself\u001b[39m)\u001b[38;5;241m.\u001b[39m\u001b[38;5;18m__name__\u001b[39m\u001b[38;5;132;01m}\u001b[39;00m\u001b[38;5;124m is ambiguous. \u001b[39m\u001b[38;5;124m\"\u001b[39m\n\u001b[0;32m   1529\u001b[0m         \u001b[38;5;124m\"\u001b[39m\u001b[38;5;124mUse a.empty, a.bool(), a.item(), a.any() or a.all().\u001b[39m\u001b[38;5;124m\"\u001b[39m\n\u001b[0;32m   1530\u001b[0m     )\n",
      "\u001b[1;31mValueError\u001b[0m: The truth value of a Series is ambiguous. Use a.empty, a.bool(), a.item(), a.any() or a.all()."
     ]
    }
   ],
   "source": [
    "if(df2[\"wqi\"] < 25):\n",
    "    df2[\"wqc\"] = \"Excellent\""
   ]
  },
  {
   "cell_type": "code",
   "execution_count": 59,
   "id": "3e8d840f",
   "metadata": {},
   "outputs": [],
   "source": [
    "df2[\"wqc\"] = \"Excellent\""
   ]
  },
  {
   "cell_type": "code",
   "execution_count": 60,
   "id": "cda9ac55",
   "metadata": {},
   "outputs": [
    {
     "ename": "ValueError",
     "evalue": "The truth value of a Series is ambiguous. Use a.empty, a.bool(), a.item(), a.any() or a.all().",
     "output_type": "error",
     "traceback": [
      "\u001b[1;31m---------------------------------------------------------------------------\u001b[0m",
      "\u001b[1;31mValueError\u001b[0m                                Traceback (most recent call last)",
      "Input \u001b[1;32mIn [60]\u001b[0m, in \u001b[0;36m<cell line: 1>\u001b[1;34m()\u001b[0m\n\u001b[1;32m----> 1\u001b[0m \u001b[38;5;28;01mif\u001b[39;00m(\u001b[43mdf2\u001b[49m\u001b[43m[\u001b[49m\u001b[38;5;124;43m\"\u001b[39;49m\u001b[38;5;124;43mwqi\u001b[39;49m\u001b[38;5;124;43m\"\u001b[39;49m\u001b[43m]\u001b[49m\u001b[43m \u001b[49m\u001b[38;5;241;43m<\u001b[39;49m\u001b[43m \u001b[49m\u001b[38;5;241;43m25\u001b[39;49m):\n\u001b[0;32m      2\u001b[0m     df2[\u001b[38;5;124m\"\u001b[39m\u001b[38;5;124mwqc\u001b[39m\u001b[38;5;124m\"\u001b[39m] \u001b[38;5;241m=\u001b[39m \u001b[38;5;124m\"\u001b[39m\u001b[38;5;124mExcellent\u001b[39m\u001b[38;5;124m\"\u001b[39m\n",
      "File \u001b[1;32m~\\anaconda3\\lib\\site-packages\\pandas\\core\\generic.py:1527\u001b[0m, in \u001b[0;36mNDFrame.__nonzero__\u001b[1;34m(self)\u001b[0m\n\u001b[0;32m   1525\u001b[0m \u001b[38;5;129m@final\u001b[39m\n\u001b[0;32m   1526\u001b[0m \u001b[38;5;28;01mdef\u001b[39;00m \u001b[38;5;21m__nonzero__\u001b[39m(\u001b[38;5;28mself\u001b[39m):\n\u001b[1;32m-> 1527\u001b[0m     \u001b[38;5;28;01mraise\u001b[39;00m \u001b[38;5;167;01mValueError\u001b[39;00m(\n\u001b[0;32m   1528\u001b[0m         \u001b[38;5;124mf\u001b[39m\u001b[38;5;124m\"\u001b[39m\u001b[38;5;124mThe truth value of a \u001b[39m\u001b[38;5;132;01m{\u001b[39;00m\u001b[38;5;28mtype\u001b[39m(\u001b[38;5;28mself\u001b[39m)\u001b[38;5;241m.\u001b[39m\u001b[38;5;18m__name__\u001b[39m\u001b[38;5;132;01m}\u001b[39;00m\u001b[38;5;124m is ambiguous. \u001b[39m\u001b[38;5;124m\"\u001b[39m\n\u001b[0;32m   1529\u001b[0m         \u001b[38;5;124m\"\u001b[39m\u001b[38;5;124mUse a.empty, a.bool(), a.item(), a.any() or a.all().\u001b[39m\u001b[38;5;124m\"\u001b[39m\n\u001b[0;32m   1530\u001b[0m     )\n",
      "\u001b[1;31mValueError\u001b[0m: The truth value of a Series is ambiguous. Use a.empty, a.bool(), a.item(), a.any() or a.all()."
     ]
    }
   ],
   "source": [
    "if(df2[\"wqi\"] < 25):\n",
    "    df2[\"wqc\"] = \"Excellent\""
   ]
  },
  {
   "cell_type": "code",
   "execution_count": 61,
   "id": "ac1b0e6e",
   "metadata": {},
   "outputs": [],
   "source": [
    "df4 = df2[df2[\"wqi\"] < 25]"
   ]
  },
  {
   "cell_type": "code",
   "execution_count": 62,
   "id": "f17d1495",
   "metadata": {},
   "outputs": [
    {
     "name": "stderr",
     "output_type": "stream",
     "text": [
      "C:\\Users\\sansk\\AppData\\Local\\Temp\\ipykernel_14120\\848214117.py:1: SettingWithCopyWarning: \n",
      "A value is trying to be set on a copy of a slice from a DataFrame.\n",
      "Try using .loc[row_indexer,col_indexer] = value instead\n",
      "\n",
      "See the caveats in the documentation: https://pandas.pydata.org/pandas-docs/stable/user_guide/indexing.html#returning-a-view-versus-a-copy\n",
      "  df4[\"wqc\"] = \"Excellent\"\n"
     ]
    }
   ],
   "source": [
    "df4[\"wqc\"] = \"Excellent\""
   ]
  },
  {
   "cell_type": "code",
   "execution_count": 67,
   "id": "8f4a8130",
   "metadata": {},
   "outputs": [
    {
     "data": {
      "text/plain": [
       "SITE_ID           128\n",
       "WRIS ID           128\n",
       "LATITUDE          128\n",
       "LONGITUDE         128\n",
       "SITE_TYPE         128\n",
       "STATE_NAME        128\n",
       "DISTRICT_NAME     128\n",
       "TAHSIL_NAME       128\n",
       "BLOCK_NAME        128\n",
       "SITE_NAME         128\n",
       "BASIN_NAME        128\n",
       "PROJECT_NAME      128\n",
       "PH                128\n",
       "EC                128\n",
       "TH                128\n",
       "TOT_ALKALINITY    128\n",
       "CA                128\n",
       "MG                128\n",
       "NA                128\n",
       "K                 128\n",
       "FE                128\n",
       "CARBONATE         128\n",
       "BICARBONATE       128\n",
       "CHLORIDE          128\n",
       "SULPHATE          128\n",
       "NITRATE           128\n",
       "FLUORIDE          128\n",
       "SAR               128\n",
       "RSC               128\n",
       "QipH              128\n",
       "Qiec              128\n",
       "Qith              128\n",
       "qiTA              128\n",
       "qica              128\n",
       "qimg              128\n",
       "qina              128\n",
       "qibc              128\n",
       "qic               128\n",
       "sulfate           128\n",
       "qin               128\n",
       "qisar             128\n",
       "wqi               128\n",
       "wqc               128\n",
       "dtype: int64"
      ]
     },
     "execution_count": 67,
     "metadata": {},
     "output_type": "execute_result"
    }
   ],
   "source": [
    "df3.count()"
   ]
  },
  {
   "cell_type": "code",
   "execution_count": 66,
   "id": "5ae86cb1",
   "metadata": {},
   "outputs": [],
   "source": [
    "df3 = df2[(df2[\"wqi\"] >= 25) & (df2[\"wqi\"]<50)]"
   ]
  },
  {
   "cell_type": "code",
   "execution_count": 68,
   "id": "8bae6a68",
   "metadata": {},
   "outputs": [
    {
     "data": {
      "text/plain": [
       "SITE_ID           19\n",
       "WRIS ID           19\n",
       "LATITUDE          19\n",
       "LONGITUDE         19\n",
       "SITE_TYPE         19\n",
       "STATE_NAME        19\n",
       "DISTRICT_NAME     19\n",
       "TAHSIL_NAME       19\n",
       "BLOCK_NAME        19\n",
       "SITE_NAME         19\n",
       "BASIN_NAME        19\n",
       "PROJECT_NAME      19\n",
       "PH                19\n",
       "EC                19\n",
       "TH                19\n",
       "TOT_ALKALINITY    19\n",
       "CA                19\n",
       "MG                19\n",
       "NA                19\n",
       "K                 19\n",
       "FE                19\n",
       "CARBONATE         19\n",
       "BICARBONATE       19\n",
       "CHLORIDE          19\n",
       "SULPHATE          19\n",
       "NITRATE           19\n",
       "FLUORIDE          19\n",
       "SAR               19\n",
       "RSC               19\n",
       "QipH              19\n",
       "Qiec              19\n",
       "Qith              19\n",
       "qiTA              19\n",
       "qica              19\n",
       "qimg              19\n",
       "qina              19\n",
       "qibc              19\n",
       "qic               19\n",
       "sulfate           19\n",
       "qin               19\n",
       "qisar             19\n",
       "wqi               19\n",
       "wqc               19\n",
       "dtype: int64"
      ]
     },
     "execution_count": 68,
     "metadata": {},
     "output_type": "execute_result"
    }
   ],
   "source": [
    "df4.count()"
   ]
  },
  {
   "cell_type": "code",
   "execution_count": 69,
   "id": "aa7f2e52",
   "metadata": {},
   "outputs": [
    {
     "name": "stderr",
     "output_type": "stream",
     "text": [
      "C:\\Users\\sansk\\AppData\\Local\\Temp\\ipykernel_14120\\249586572.py:1: SettingWithCopyWarning: \n",
      "A value is trying to be set on a copy of a slice from a DataFrame.\n",
      "Try using .loc[row_indexer,col_indexer] = value instead\n",
      "\n",
      "See the caveats in the documentation: https://pandas.pydata.org/pandas-docs/stable/user_guide/indexing.html#returning-a-view-versus-a-copy\n",
      "  df3[\"wqc\"] = \"good\"\n"
     ]
    }
   ],
   "source": [
    "df3[\"wqc\"] = \"good\""
   ]
  },
  {
   "cell_type": "code",
   "execution_count": 70,
   "id": "2fac1e70",
   "metadata": {},
   "outputs": [],
   "source": [
    "df5 =  df2[(df2[\"wqi\"] >= 50) & (df2[\"wqi\"]<75)]"
   ]
  },
  {
   "cell_type": "code",
   "execution_count": 71,
   "id": "e9823463",
   "metadata": {},
   "outputs": [
    {
     "name": "stderr",
     "output_type": "stream",
     "text": [
      "C:\\Users\\sansk\\AppData\\Local\\Temp\\ipykernel_14120\\3944834273.py:1: SettingWithCopyWarning: \n",
      "A value is trying to be set on a copy of a slice from a DataFrame.\n",
      "Try using .loc[row_indexer,col_indexer] = value instead\n",
      "\n",
      "See the caveats in the documentation: https://pandas.pydata.org/pandas-docs/stable/user_guide/indexing.html#returning-a-view-versus-a-copy\n",
      "  df5[\"wqc\"] = \"poor\"\n"
     ]
    }
   ],
   "source": [
    "df5[\"wqc\"] = \"poor\""
   ]
  },
  {
   "cell_type": "code",
   "execution_count": 72,
   "id": "22942bc0",
   "metadata": {},
   "outputs": [],
   "source": [
    "df6 =  df2[(df2[\"wqi\"] >= 75) & (df2[\"wqi\"]<100)]"
   ]
  },
  {
   "cell_type": "code",
   "execution_count": 73,
   "id": "0092de13",
   "metadata": {},
   "outputs": [
    {
     "name": "stderr",
     "output_type": "stream",
     "text": [
      "C:\\Users\\sansk\\AppData\\Local\\Temp\\ipykernel_14120\\2774781547.py:1: SettingWithCopyWarning: \n",
      "A value is trying to be set on a copy of a slice from a DataFrame.\n",
      "Try using .loc[row_indexer,col_indexer] = value instead\n",
      "\n",
      "See the caveats in the documentation: https://pandas.pydata.org/pandas-docs/stable/user_guide/indexing.html#returning-a-view-versus-a-copy\n",
      "  df6[\"wqc\"] = \"Very poor\"\n"
     ]
    }
   ],
   "source": [
    "df6[\"wqc\"] = \"Very poor\""
   ]
  },
  {
   "cell_type": "code",
   "execution_count": 74,
   "id": "5e371ac0",
   "metadata": {},
   "outputs": [],
   "source": [
    "df7 = df2[df2[\"wqi\"] >= 100]"
   ]
  },
  {
   "cell_type": "code",
   "execution_count": 75,
   "id": "44a5ccfa",
   "metadata": {},
   "outputs": [
    {
     "name": "stderr",
     "output_type": "stream",
     "text": [
      "C:\\Users\\sansk\\AppData\\Local\\Temp\\ipykernel_14120\\1268266954.py:1: SettingWithCopyWarning: \n",
      "A value is trying to be set on a copy of a slice from a DataFrame.\n",
      "Try using .loc[row_indexer,col_indexer] = value instead\n",
      "\n",
      "See the caveats in the documentation: https://pandas.pydata.org/pandas-docs/stable/user_guide/indexing.html#returning-a-view-versus-a-copy\n",
      "  df7[\"wqc\"] = \"unfit for consumption\"\n"
     ]
    }
   ],
   "source": [
    "df7[\"wqc\"] = \"unfit for consumption\""
   ]
  },
  {
   "cell_type": "code",
   "execution_count": 76,
   "id": "3ca54192",
   "metadata": {},
   "outputs": [],
   "source": [
    "df8 = pd.concat([df3,df4,df5,df6,df7])"
   ]
  },
  {
   "cell_type": "code",
   "execution_count": 77,
   "id": "2a6a4f4d",
   "metadata": {},
   "outputs": [
    {
     "data": {
      "text/html": [
       "<div>\n",
       "<style scoped>\n",
       "    .dataframe tbody tr th:only-of-type {\n",
       "        vertical-align: middle;\n",
       "    }\n",
       "\n",
       "    .dataframe tbody tr th {\n",
       "        vertical-align: top;\n",
       "    }\n",
       "\n",
       "    .dataframe thead th {\n",
       "        text-align: right;\n",
       "    }\n",
       "</style>\n",
       "<table border=\"1\" class=\"dataframe\">\n",
       "  <thead>\n",
       "    <tr style=\"text-align: right;\">\n",
       "      <th></th>\n",
       "      <th>SITE_ID</th>\n",
       "      <th>WRIS ID</th>\n",
       "      <th>LATITUDE</th>\n",
       "      <th>LONGITUDE</th>\n",
       "      <th>SITE_TYPE</th>\n",
       "      <th>STATE_NAME</th>\n",
       "      <th>DISTRICT_NAME</th>\n",
       "      <th>TAHSIL_NAME</th>\n",
       "      <th>BLOCK_NAME</th>\n",
       "      <th>SITE_NAME</th>\n",
       "      <th>...</th>\n",
       "      <th>qica</th>\n",
       "      <th>qimg</th>\n",
       "      <th>qina</th>\n",
       "      <th>qibc</th>\n",
       "      <th>qic</th>\n",
       "      <th>sulfate</th>\n",
       "      <th>qin</th>\n",
       "      <th>qisar</th>\n",
       "      <th>wqi</th>\n",
       "      <th>wqc</th>\n",
       "    </tr>\n",
       "  </thead>\n",
       "  <tbody>\n",
       "    <tr>\n",
       "      <th>59</th>\n",
       "      <td>W260130074393001</td>\n",
       "      <td>W13569</td>\n",
       "      <td>26°1'30\" N</td>\n",
       "      <td>74°39'30\" E</td>\n",
       "      <td>Dug Well</td>\n",
       "      <td>Rajasthan</td>\n",
       "      <td>Ajmer</td>\n",
       "      <td>Bhinai</td>\n",
       "      <td>Bhinai</td>\n",
       "      <td>Jhopadiyan</td>\n",
       "      <td>...</td>\n",
       "      <td>88.000000</td>\n",
       "      <td>76.666667</td>\n",
       "      <td>78.333333</td>\n",
       "      <td>177.00</td>\n",
       "      <td>17.0</td>\n",
       "      <td>1.666667</td>\n",
       "      <td>71.111111</td>\n",
       "      <td>29.890930</td>\n",
       "      <td>42.243345</td>\n",
       "      <td>good</td>\n",
       "    </tr>\n",
       "    <tr>\n",
       "      <th>63</th>\n",
       "      <td>W260130074393001</td>\n",
       "      <td>W13569</td>\n",
       "      <td>26°1'30\" N</td>\n",
       "      <td>74°39'30\" E</td>\n",
       "      <td>Dug Well</td>\n",
       "      <td>Rajasthan</td>\n",
       "      <td>Ajmer</td>\n",
       "      <td>Bhinai</td>\n",
       "      <td>Bhinai</td>\n",
       "      <td>Jhopadiyan</td>\n",
       "      <td>...</td>\n",
       "      <td>88.000000</td>\n",
       "      <td>76.666667</td>\n",
       "      <td>78.333333</td>\n",
       "      <td>177.00</td>\n",
       "      <td>17.0</td>\n",
       "      <td>1.666667</td>\n",
       "      <td>71.111111</td>\n",
       "      <td>29.890930</td>\n",
       "      <td>42.243345</td>\n",
       "      <td>good</td>\n",
       "    </tr>\n",
       "    <tr>\n",
       "      <th>106</th>\n",
       "      <td>W260600074250001</td>\n",
       "      <td>W13583</td>\n",
       "      <td>26°6'0\" N</td>\n",
       "      <td>74°25'0\" E</td>\n",
       "      <td>Dug Well</td>\n",
       "      <td>Rajasthan</td>\n",
       "      <td>Ajmer</td>\n",
       "      <td>Jawaja</td>\n",
       "      <td>Jawaja</td>\n",
       "      <td>Pakhriawas</td>\n",
       "      <td>...</td>\n",
       "      <td>50.666667</td>\n",
       "      <td>12.166667</td>\n",
       "      <td>40.000000</td>\n",
       "      <td>76.25</td>\n",
       "      <td>5.6</td>\n",
       "      <td>1.666667</td>\n",
       "      <td>82.222222</td>\n",
       "      <td>23.448237</td>\n",
       "      <td>47.858272</td>\n",
       "      <td>good</td>\n",
       "    </tr>\n",
       "    <tr>\n",
       "      <th>107</th>\n",
       "      <td>W260600074250001</td>\n",
       "      <td>W13583</td>\n",
       "      <td>26°6'0\" N</td>\n",
       "      <td>74°25'0\" E</td>\n",
       "      <td>Dug Well</td>\n",
       "      <td>Rajasthan</td>\n",
       "      <td>Ajmer</td>\n",
       "      <td>Jawaja</td>\n",
       "      <td>Jawaja</td>\n",
       "      <td>Pakhriawas</td>\n",
       "      <td>...</td>\n",
       "      <td>40.000000</td>\n",
       "      <td>28.333333</td>\n",
       "      <td>59.166667</td>\n",
       "      <td>67.00</td>\n",
       "      <td>5.6</td>\n",
       "      <td>20.000000</td>\n",
       "      <td>137.777778</td>\n",
       "      <td>34.690339</td>\n",
       "      <td>30.644053</td>\n",
       "      <td>good</td>\n",
       "    </tr>\n",
       "    <tr>\n",
       "      <th>225</th>\n",
       "      <td>W273400076180002</td>\n",
       "      <td>W29770</td>\n",
       "      <td>27°34'0\" N</td>\n",
       "      <td>76°18'0\" E</td>\n",
       "      <td>Tube Well</td>\n",
       "      <td>Rajasthan</td>\n",
       "      <td>Alwar</td>\n",
       "      <td>Bansur</td>\n",
       "      <td>Bansur</td>\n",
       "      <td>Chattarpura</td>\n",
       "      <td>...</td>\n",
       "      <td>21.333333</td>\n",
       "      <td>53.333333</td>\n",
       "      <td>24.166667</td>\n",
       "      <td>61.00</td>\n",
       "      <td>2.8</td>\n",
       "      <td>10.666667</td>\n",
       "      <td>35.555556</td>\n",
       "      <td>14.443471</td>\n",
       "      <td>37.747476</td>\n",
       "      <td>good</td>\n",
       "    </tr>\n",
       "  </tbody>\n",
       "</table>\n",
       "<p>5 rows × 43 columns</p>\n",
       "</div>"
      ],
      "text/plain": [
       "              SITE_ID WRIS ID    LATITUDE    LONGITUDE  SITE_TYPE STATE_NAME  \\\n",
       "59   W260130074393001  W13569  26°1'30\" N  74°39'30\" E   Dug Well  Rajasthan   \n",
       "63   W260130074393001  W13569  26°1'30\" N  74°39'30\" E   Dug Well  Rajasthan   \n",
       "106  W260600074250001  W13583   26°6'0\" N   74°25'0\" E   Dug Well  Rajasthan   \n",
       "107  W260600074250001  W13583   26°6'0\" N   74°25'0\" E   Dug Well  Rajasthan   \n",
       "225  W273400076180002  W29770  27°34'0\" N   76°18'0\" E  Tube Well  Rajasthan   \n",
       "\n",
       "    DISTRICT_NAME TAHSIL_NAME BLOCK_NAME    SITE_NAME  ...       qica  \\\n",
       "59          Ajmer      Bhinai     Bhinai   Jhopadiyan  ...  88.000000   \n",
       "63          Ajmer      Bhinai     Bhinai   Jhopadiyan  ...  88.000000   \n",
       "106         Ajmer      Jawaja     Jawaja   Pakhriawas  ...  50.666667   \n",
       "107         Ajmer      Jawaja     Jawaja   Pakhriawas  ...  40.000000   \n",
       "225         Alwar      Bansur     Bansur  Chattarpura  ...  21.333333   \n",
       "\n",
       "          qimg       qina    qibc   qic    sulfate         qin      qisar  \\\n",
       "59   76.666667  78.333333  177.00  17.0   1.666667   71.111111  29.890930   \n",
       "63   76.666667  78.333333  177.00  17.0   1.666667   71.111111  29.890930   \n",
       "106  12.166667  40.000000   76.25   5.6   1.666667   82.222222  23.448237   \n",
       "107  28.333333  59.166667   67.00   5.6  20.000000  137.777778  34.690339   \n",
       "225  53.333333  24.166667   61.00   2.8  10.666667   35.555556  14.443471   \n",
       "\n",
       "           wqi   wqc  \n",
       "59   42.243345  good  \n",
       "63   42.243345  good  \n",
       "106  47.858272  good  \n",
       "107  30.644053  good  \n",
       "225  37.747476  good  \n",
       "\n",
       "[5 rows x 43 columns]"
      ]
     },
     "execution_count": 77,
     "metadata": {},
     "output_type": "execute_result"
    }
   ],
   "source": [
    "df8.head()"
   ]
  },
  {
   "cell_type": "code",
   "execution_count": 78,
   "id": "d1738387",
   "metadata": {},
   "outputs": [
    {
     "data": {
      "text/plain": [
       "unfit for consumption    3933\n",
       "Very poor                 698\n",
       "poor                      370\n",
       "good                      128\n",
       "Excellent                  19\n",
       "Name: wqc, dtype: int64"
      ]
     },
     "execution_count": 78,
     "metadata": {},
     "output_type": "execute_result"
    }
   ],
   "source": [
    "df8[\"wqc\"].value_counts()"
   ]
  },
  {
   "cell_type": "code",
   "execution_count": 79,
   "id": "19a81fad",
   "metadata": {},
   "outputs": [
    {
     "data": {
      "text/plain": [
       "<AxesSubplot:xlabel='wqc'>"
      ]
     },
     "execution_count": 79,
     "metadata": {},
     "output_type": "execute_result"
    },
    {
     "data": {
      "image/png": "[encoded data removed]",
      "text/plain": [
       "<Figure size 432x288 with 1 Axes>"
      ]
     },
     "metadata": {
      "needs_background": "light"
     },
     "output_type": "display_data"
    }
   ],
   "source": [
    "sns.barplot(y = df8[\"wqc\"].value_counts().index,x = df8[\"wqc\"].value_counts())"
   ]
  },
  {
   "cell_type": "code",
   "execution_count": 80,
   "id": "43d662fa",
   "metadata": {},
   "outputs": [
    {
     "data": {
      "text/plain": [
       "Index(['unfit for consumption', 'Very poor', 'poor', 'good', 'Excellent'], dtype='object')"
      ]
     },
     "execution_count": 80,
     "metadata": {},
     "output_type": "execute_result"
    }
   ],
   "source": [
    "df8[\"wqc\"].value_counts().index"
   ]
  },
  {
   "cell_type": "code",
   "execution_count": 81,
   "id": "feff6125",
   "metadata": {},
   "outputs": [],
   "source": [
    "X = df2[[\"PH\",\"MG\",\"TH\",\"NA\",\"CA\",\"MG\",\"NA\",\"TOT_ALKALINITY\",\"BICARBONATE\",\"SULPHATE\",\"BICARBONATE\",\"CHLORIDE\"]]"
   ]
  },
  {
   "cell_type": "code",
   "execution_count": 82,
   "id": "13b3aa1f",
   "metadata": {},
   "outputs": [],
   "source": [
    "from sklearn.preprocessing import StandardScaler"
   ]
  },
  {
   "cell_type": "code",
   "execution_count": 83,
   "id": "57d2bf73",
   "metadata": {},
   "outputs": [],
   "source": [
    "standard_scaler  = StandardScaler()"
   ]
  },
  {
   "cell_type": "code",
   "execution_count": 84,
   "id": "6756359b",
   "metadata": {},
   "outputs": [
    {
     "data": {
      "text/plain": [
       "StandardScaler()"
      ]
     },
     "execution_count": 84,
     "metadata": {},
     "output_type": "execute_result"
    }
   ],
   "source": [
    "standard_scaler.fit(X)"
   ]
  },
  {
   "cell_type": "code",
   "execution_count": 85,
   "id": "ae0993f8",
   "metadata": {},
   "outputs": [],
   "source": [
    "X_standarized = standard_scaler.transform(X)"
   ]
  },
  {
   "cell_type": "code",
   "execution_count": 143,
   "id": "c6872a6f",
   "metadata": {},
   "outputs": [],
   "source": [
    "y = df8[\"wqc\"]"
   ]
  },
  {
   "cell_type": "code",
   "execution_count": 87,
   "id": "eef3180a",
   "metadata": {},
   "outputs": [],
   "source": [
    "from sklearn.model_selection import train_test_split"
   ]
  },
  {
   "cell_type": "code",
   "execution_count": 88,
   "id": "02e1845d",
   "metadata": {},
   "outputs": [],
   "source": [
    "X_train,X_test,y_train,y_test = train_test_split(X_standarized,y,test_size = 0.2,random_state = 42)"
   ]
  },
  {
   "cell_type": "code",
   "execution_count": 89,
   "id": "ec789821",
   "metadata": {},
   "outputs": [],
   "source": [
    "from sklearn.neighbors import KNeighborsClassifier"
   ]
  },
  {
   "cell_type": "code",
   "execution_count": 90,
   "id": "e0eee42c",
   "metadata": {},
   "outputs": [],
   "source": [
    "knn_class = KNeighborsClassifier()"
   ]
  },
  {
   "cell_type": "code",
   "execution_count": 91,
   "id": "3a271d5e",
   "metadata": {},
   "outputs": [
    {
     "data": {
      "text/plain": [
       "KNeighborsClassifier()"
      ]
     },
     "execution_count": 91,
     "metadata": {},
     "output_type": "execute_result"
    }
   ],
   "source": [
    "knn_class.fit(X_train,y_train)"
   ]
  },
  {
   "cell_type": "code",
   "execution_count": 92,
   "id": "dfd2f76a",
   "metadata": {},
   "outputs": [],
   "source": [
    "y_pred = knn_class.predict(X_test)"
   ]
  },
  {
   "cell_type": "code",
   "execution_count": 93,
   "id": "ff8b5bcd",
   "metadata": {},
   "outputs": [
    {
     "data": {
      "text/plain": [
       "array(['unfit for consumption', 'unfit for consumption',\n",
       "       'unfit for consumption', ..., 'unfit for consumption',\n",
       "       'unfit for consumption', 'unfit for consumption'], dtype=object)"
      ]
     },
     "execution_count": 93,
     "metadata": {},
     "output_type": "execute_result"
    }
   ],
   "source": [
    "y_pred"
   ]
  },
  {
   "cell_type": "code",
   "execution_count": 94,
   "id": "22cb0170",
   "metadata": {},
   "outputs": [],
   "source": [
    "from sklearn.metrics import confusion_matrix"
   ]
  },
  {
   "cell_type": "code",
   "execution_count": 95,
   "id": "91b75d55",
   "metadata": {},
   "outputs": [
    {
     "data": {
      "text/plain": [
       "array([[  0,   0,   0,   0,   4],\n",
       "       [  0,  20,   2,   4, 116],\n",
       "       [  0,   3,   0,   1,  28],\n",
       "       [  0,   2,   0,   7,  68],\n",
       "       [  0,  47,   8,  16, 704]], dtype=int64)"
      ]
     },
     "execution_count": 95,
     "metadata": {},
     "output_type": "execute_result"
    }
   ],
   "source": [
    "confusion_matrix(y_test, y_pred)"
   ]
  },
  {
   "cell_type": "code",
   "execution_count": 96,
   "id": "977e05fc",
   "metadata": {},
   "outputs": [
    {
     "data": {
      "text/plain": [
       "1030"
      ]
     },
     "execution_count": 96,
     "metadata": {},
     "output_type": "execute_result"
    }
   ],
   "source": [
    "len(y_pred)"
   ]
  },
  {
   "cell_type": "code",
   "execution_count": 97,
   "id": "e0a7c3a5",
   "metadata": {},
   "outputs": [
    {
     "data": {
      "text/plain": [
       "0.7097087378640776"
      ]
     },
     "execution_count": 97,
     "metadata": {},
     "output_type": "execute_result"
    }
   ],
   "source": [
    "731/1030\n"
   ]
  },
  {
   "cell_type": "code",
   "execution_count": 98,
   "id": "d36e268a",
   "metadata": {},
   "outputs": [],
   "source": [
    "from sklearn.svm import SVC"
   ]
  },
  {
   "cell_type": "code",
   "execution_count": 163,
   "id": "f478be65",
   "metadata": {},
   "outputs": [],
   "source": [
    "svm_classifier = SVC(C = 1,kernel = 'poly',gamma = 1)"
   ]
  },
  {
   "cell_type": "code",
   "execution_count": 100,
   "id": "94ece0bb",
   "metadata": {},
   "outputs": [
    {
     "data": {
      "text/plain": [
       "SVC(C=1, gamma=1, kernel='poly')"
      ]
     },
     "execution_count": 100,
     "metadata": {},
     "output_type": "execute_result"
    }
   ],
   "source": [
    "svm_classifier.fit(X_train,y_train)"
   ]
  },
  {
   "cell_type": "code",
   "execution_count": 101,
   "id": "1c4bddbf",
   "metadata": {},
   "outputs": [],
   "source": [
    "y_pred_svm = svm_classifier.predict(X_test)"
   ]
  },
  {
   "cell_type": "code",
   "execution_count": 102,
   "id": "34a1a5a5",
   "metadata": {},
   "outputs": [
    {
     "data": {
      "text/plain": [
       "array([[  0,   0,   0,   0,   4],\n",
       "       [  0,   7,   0,   0, 135],\n",
       "       [  0,   1,   0,   0,  31],\n",
       "       [  0,   3,   0,   1,  73],\n",
       "       [  2,  10,   0,   4, 759]], dtype=int64)"
      ]
     },
     "execution_count": 102,
     "metadata": {},
     "output_type": "execute_result"
    }
   ],
   "source": [
    "confusion_matrix(y_test, y_pred_svm)"
   ]
  },
  {
   "cell_type": "code",
   "execution_count": 103,
   "id": "5ba9dc86",
   "metadata": {},
   "outputs": [
    {
     "data": {
      "text/plain": [
       "0.7446601941747573"
      ]
     },
     "execution_count": 103,
     "metadata": {},
     "output_type": "execute_result"
    }
   ],
   "source": [
    "767/1030"
   ]
  },
  {
   "cell_type": "code",
   "execution_count": 104,
   "id": "e1535862",
   "metadata": {},
   "outputs": [],
   "source": [
    "from sklearn.ensemble import RandomForestClassifier"
   ]
  },
  {
   "cell_type": "code",
   "execution_count": 105,
   "id": "a4c8cf31",
   "metadata": {},
   "outputs": [],
   "source": [
    "rf_classifier = RandomForestClassifier(n_estimators = 100)"
   ]
  },
  {
   "cell_type": "code",
   "execution_count": 106,
   "id": "eacc63b5",
   "metadata": {},
   "outputs": [
    {
     "data": {
      "text/plain": [
       "RandomForestClassifier()"
      ]
     },
     "execution_count": 106,
     "metadata": {},
     "output_type": "execute_result"
    }
   ],
   "source": [
    "rf_classifier.fit(X_train,y_train)"
   ]
  },
  {
   "cell_type": "code",
   "execution_count": 107,
   "id": "4d4d387e",
   "metadata": {},
   "outputs": [],
   "source": [
    "y_pred_rf = rf_classifier.predict(X_test)"
   ]
  },
  {
   "cell_type": "code",
   "execution_count": 108,
   "id": "49d71b2d",
   "metadata": {},
   "outputs": [
    {
     "data": {
      "text/plain": [
       "array([[  2,   0,   0,   0,   2],\n",
       "       [  0,  29,   0,   2, 111],\n",
       "       [  0,   1,   6,   0,  25],\n",
       "       [  0,   1,   0,  19,  57],\n",
       "       [  0,  18,   1,   3, 753]], dtype=int64)"
      ]
     },
     "execution_count": 108,
     "metadata": {},
     "output_type": "execute_result"
    }
   ],
   "source": [
    "confusion_matrix(y_test, y_pred_rf)"
   ]
  },
  {
   "cell_type": "code",
   "execution_count": 109,
   "id": "45d6205b",
   "metadata": {},
   "outputs": [
    {
     "data": {
      "text/plain": [
       "0.7883495145631068"
      ]
     },
     "execution_count": 109,
     "metadata": {},
     "output_type": "execute_result"
    }
   ],
   "source": [
    "812/1030"
   ]
  },
  {
   "cell_type": "code",
   "execution_count": 110,
   "id": "3c653856",
   "metadata": {},
   "outputs": [],
   "source": [
    "svm_classifier = SVC(c=1,kernel = 'linear',gamma = 1)"
   ]
  },
  {
   "cell_type": "code",
   "execution_count": 111,
   "id": "323b44bb",
   "metadata": {},
   "outputs": [
    {
     "data": {
      "text/plain": [
       "SVC(C=1, gamma=1, kernel='linear')"
      ]
     },
     "execution_count": 111,
     "metadata": {},
     "output_type": "execute_result"
    }
   ],
   "source": [
    "svm_classifier.fit(X_train,y_train)"
   ]
  },
  {
   "cell_type": "code",
   "execution_count": 112,
   "id": "d39c98d0",
   "metadata": {},
   "outputs": [],
   "source": [
    "y_pred_svm_1 = svm_classifier.predict(X_test)"
   ]
  },
  {
   "cell_type": "code",
   "execution_count": 113,
   "id": "83057727",
   "metadata": {},
   "outputs": [
    {
     "data": {
      "text/plain": [
       "array([[  0,   0,   0,   0,   4],\n",
       "       [  0,   0,   0,   0, 142],\n",
       "       [  0,   0,   0,   0,  32],\n",
       "       [  0,   0,   0,   0,  77],\n",
       "       [  0,   0,   0,   0, 775]], dtype=int64)"
      ]
     },
     "execution_count": 113,
     "metadata": {},
     "output_type": "execute_result"
    }
   ],
   "source": [
    "confusion_matrix(y_test, y_pred_svm_1)"
   ]
  },
  {
   "cell_type": "code",
   "execution_count": 114,
   "id": "156ffeae",
   "metadata": {},
   "outputs": [],
   "source": [
    "classifier = SVC(kernel ='rbf', random_state = 0)"
   ]
  },
  {
   "cell_type": "code",
   "execution_count": 115,
   "id": "d18d9e1b",
   "metadata": {},
   "outputs": [
    {
     "data": {
      "text/plain": [
       "SVC(random_state=0)"
      ]
     },
     "execution_count": 115,
     "metadata": {},
     "output_type": "execute_result"
    }
   ],
   "source": [
    "classifier.fit(X_train, y_train)"
   ]
  },
  {
   "cell_type": "code",
   "execution_count": 116,
   "id": "3fc55b4d",
   "metadata": {},
   "outputs": [],
   "source": [
    "y_pred_svm_2 = classifier.predict(X_test)"
   ]
  },
  {
   "cell_type": "code",
   "execution_count": 117,
   "id": "0e50da29",
   "metadata": {},
   "outputs": [
    {
     "data": {
      "text/plain": [
       "array([[  0,   0,   0,   0,   4],\n",
       "       [  0,   5,   0,   0, 137],\n",
       "       [  0,   2,   0,   0,  30],\n",
       "       [  0,   1,   0,   1,  75],\n",
       "       [  0,   4,   0,   0, 771]], dtype=int64)"
      ]
     },
     "execution_count": 117,
     "metadata": {},
     "output_type": "execute_result"
    }
   ],
   "source": [
    "confusion_matrix(y_test, y_pred_svm_2)"
   ]
  },
  {
   "cell_type": "code",
   "execution_count": 118,
   "id": "40d8f957",
   "metadata": {},
   "outputs": [],
   "source": [
    "from sklearn.metrics import  classification_report"
   ]
  },
  {
   "cell_type": "code",
   "execution_count": 119,
   "id": "1efa4271",
   "metadata": {},
   "outputs": [
    {
     "name": "stderr",
     "output_type": "stream",
     "text": [
      "C:\\Users\\sansk\\anaconda3\\lib\\site-packages\\sklearn\\metrics\\_classification.py:1318: UndefinedMetricWarning: Precision and F-score are ill-defined and being set to 0.0 in labels with no predicted samples. Use `zero_division` parameter to control this behavior.\n",
      "  _warn_prf(average, modifier, msg_start, len(result))\n",
      "C:\\Users\\sansk\\anaconda3\\lib\\site-packages\\sklearn\\metrics\\_classification.py:1318: UndefinedMetricWarning: Precision and F-score are ill-defined and being set to 0.0 in labels with no predicted samples. Use `zero_division` parameter to control this behavior.\n",
      "  _warn_prf(average, modifier, msg_start, len(result))\n",
      "C:\\Users\\sansk\\anaconda3\\lib\\site-packages\\sklearn\\metrics\\_classification.py:1318: UndefinedMetricWarning: Precision and F-score are ill-defined and being set to 0.0 in labels with no predicted samples. Use `zero_division` parameter to control this behavior.\n",
      "  _warn_prf(average, modifier, msg_start, len(result))\n"
     ]
    },
    {
     "data": {
      "text/plain": [
       "'                       precision    recall  f1-score   support\\n\\n            Excellent       0.00      0.00      0.00         4\\n            Very poor       0.28      0.14      0.19       142\\n                 good       0.00      0.00      0.00        32\\n                 poor       0.25      0.09      0.13        77\\nunfit for consumption       0.77      0.91      0.83       775\\n\\n             accuracy                           0.71      1030\\n            macro avg       0.26      0.23      0.23      1030\\n         weighted avg       0.63      0.71      0.66      1030\\n'"
      ]
     },
     "execution_count": 119,
     "metadata": {},
     "output_type": "execute_result"
    }
   ],
   "source": [
    "classification_report(y_test,y_pred)"
   ]
  },
  {
   "cell_type": "code",
   "execution_count": 120,
   "id": "24460c82",
   "metadata": {},
   "outputs": [
    {
     "name": "stderr",
     "output_type": "stream",
     "text": [
      "C:\\Users\\sansk\\anaconda3\\lib\\site-packages\\sklearn\\metrics\\_classification.py:1318: UndefinedMetricWarning: Precision and F-score are ill-defined and being set to 0.0 in labels with no predicted samples. Use `zero_division` parameter to control this behavior.\n",
      "  _warn_prf(average, modifier, msg_start, len(result))\n",
      "C:\\Users\\sansk\\anaconda3\\lib\\site-packages\\sklearn\\metrics\\_classification.py:1318: UndefinedMetricWarning: Precision and F-score are ill-defined and being set to 0.0 in labels with no predicted samples. Use `zero_division` parameter to control this behavior.\n",
      "  _warn_prf(average, modifier, msg_start, len(result))\n",
      "C:\\Users\\sansk\\anaconda3\\lib\\site-packages\\sklearn\\metrics\\_classification.py:1318: UndefinedMetricWarning: Precision and F-score are ill-defined and being set to 0.0 in labels with no predicted samples. Use `zero_division` parameter to control this behavior.\n",
      "  _warn_prf(average, modifier, msg_start, len(result))\n"
     ]
    },
    {
     "data": {
      "text/plain": [
       "'                       precision    recall  f1-score   support\\n\\n            Excellent       0.00      0.00      0.00         4\\n            Very poor       0.33      0.05      0.09       142\\n                 good       0.00      0.00      0.00        32\\n                 poor       0.20      0.01      0.02        77\\nunfit for consumption       0.76      0.98      0.85       775\\n\\n             accuracy                           0.74      1030\\n            macro avg       0.26      0.21      0.19      1030\\n         weighted avg       0.63      0.74      0.66      1030\\n'"
      ]
     },
     "execution_count": 120,
     "metadata": {},
     "output_type": "execute_result"
    }
   ],
   "source": [
    "classification_report(y_test,y_pred_svm)"
   ]
  },
  {
   "cell_type": "code",
   "execution_count": 121,
   "id": "f8d5dc66",
   "metadata": {},
   "outputs": [
    {
     "data": {
      "text/plain": [
       "'                       precision    recall  f1-score   support\\n\\n            Excellent       1.00      0.50      0.67         4\\n            Very poor       0.59      0.20      0.30       142\\n                 good       0.86      0.19      0.31        32\\n                 poor       0.79      0.25      0.38        77\\nunfit for consumption       0.79      0.97      0.87       775\\n\\n             accuracy                           0.79      1030\\n            macro avg       0.81      0.42      0.51      1030\\n         weighted avg       0.77      0.79      0.74      1030\\n'"
      ]
     },
     "execution_count": 121,
     "metadata": {},
     "output_type": "execute_result"
    }
   ],
   "source": [
    "classification_report(y_test,y_pred_rf)"
   ]
  },
  {
   "cell_type": "code",
   "execution_count": 123,
   "id": "5276ba35",
   "metadata": {},
   "outputs": [],
   "source": [
    "df10[\"wqi\"] = (df2[\"QipH\"]*wi_ph  + df2[\"Qith\"]*wiTH +df2[\"qiTA\"]*wita + df2[\"qibc\"]*wicarbonate + df2[\"sulfate\"]*wisulf  +df2[\"qin\"]*wint + df2[\"qisar\"]*wisar)/(wi_ph + wiTH+wita+wicarbonate+wint+wisulf+wisar) \n"
   ]
  },
  {
   "cell_type": "code",
   "execution_count": 122,
   "id": "5073bdea",
   "metadata": {},
   "outputs": [],
   "source": [
    "df10 = df2.copy()"
   ]
  },
  {
   "cell_type": "code",
   "execution_count": 124,
   "id": "fb8c1aa7",
   "metadata": {},
   "outputs": [
    {
     "data": {
      "text/plain": [
       "0       242.763661\n",
       "1       155.052485\n",
       "2       230.836817\n",
       "3        70.225713\n",
       "4       126.137947\n",
       "           ...    \n",
       "5143    143.400653\n",
       "5144    127.398427\n",
       "5145    114.510034\n",
       "5146    121.448364\n",
       "5147     87.849513\n",
       "Name: wqi, Length: 5148, dtype: float64"
      ]
     },
     "execution_count": 124,
     "metadata": {},
     "output_type": "execute_result"
    }
   ],
   "source": [
    "df10[\"wqi\"]"
   ]
  },
  {
   "cell_type": "code",
   "execution_count": 126,
   "id": "b61fb24c",
   "metadata": {},
   "outputs": [],
   "source": [
    "df11 = df10[df10[\"wqi\"] < 25]"
   ]
  },
  {
   "cell_type": "code",
   "execution_count": 127,
   "id": "7493a555",
   "metadata": {},
   "outputs": [
    {
     "name": "stderr",
     "output_type": "stream",
     "text": [
      "C:\\Users\\sansk\\AppData\\Local\\Temp\\ipykernel_14120\\399014403.py:1: SettingWithCopyWarning: \n",
      "A value is trying to be set on a copy of a slice from a DataFrame.\n",
      "Try using .loc[row_indexer,col_indexer] = value instead\n",
      "\n",
      "See the caveats in the documentation: https://pandas.pydata.org/pandas-docs/stable/user_guide/indexing.html#returning-a-view-versus-a-copy\n",
      "  df11[\"wqc\"] = \"Excellent\"\n"
     ]
    }
   ],
   "source": [
    "df11[\"wqc\"] = \"Excellent\""
   ]
  },
  {
   "cell_type": "code",
   "execution_count": 128,
   "id": "fddc72c1",
   "metadata": {},
   "outputs": [],
   "source": [
    "df12 = df10[(df10[\"wqi\"] >= 25) & (df10[\"wqi\"]<50)]"
   ]
  },
  {
   "cell_type": "code",
   "execution_count": 129,
   "id": "3872587b",
   "metadata": {},
   "outputs": [
    {
     "name": "stderr",
     "output_type": "stream",
     "text": [
      "C:\\Users\\sansk\\AppData\\Local\\Temp\\ipykernel_14120\\2475095151.py:1: SettingWithCopyWarning: \n",
      "A value is trying to be set on a copy of a slice from a DataFrame.\n",
      "Try using .loc[row_indexer,col_indexer] = value instead\n",
      "\n",
      "See the caveats in the documentation: https://pandas.pydata.org/pandas-docs/stable/user_guide/indexing.html#returning-a-view-versus-a-copy\n",
      "  df12[\"wqc\"] = \"good\"\n"
     ]
    }
   ],
   "source": [
    "df12[\"wqc\"] = \"good\""
   ]
  },
  {
   "cell_type": "code",
   "execution_count": 130,
   "id": "310130e1",
   "metadata": {},
   "outputs": [],
   "source": [
    "df13 =  df10[(df10[\"wqi\"] >= 50) & (df10[\"wqi\"]<75)]"
   ]
  },
  {
   "cell_type": "code",
   "execution_count": 131,
   "id": "7ef1db53",
   "metadata": {},
   "outputs": [
    {
     "name": "stderr",
     "output_type": "stream",
     "text": [
      "C:\\Users\\sansk\\AppData\\Local\\Temp\\ipykernel_14120\\1878888445.py:1: SettingWithCopyWarning: \n",
      "A value is trying to be set on a copy of a slice from a DataFrame.\n",
      "Try using .loc[row_indexer,col_indexer] = value instead\n",
      "\n",
      "See the caveats in the documentation: https://pandas.pydata.org/pandas-docs/stable/user_guide/indexing.html#returning-a-view-versus-a-copy\n",
      "  df13[\"wqc\"] = \"poor\"\n"
     ]
    }
   ],
   "source": [
    "df13[\"wqc\"] = \"poor\""
   ]
  },
  {
   "cell_type": "code",
   "execution_count": 132,
   "id": "e6c727d4",
   "metadata": {},
   "outputs": [],
   "source": [
    "df14 =  df10[(df10[\"wqi\"] >= 75) & (df10[\"wqi\"]<100)]"
   ]
  },
  {
   "cell_type": "code",
   "execution_count": 133,
   "id": "6dd43051",
   "metadata": {},
   "outputs": [
    {
     "name": "stderr",
     "output_type": "stream",
     "text": [
      "C:\\Users\\sansk\\AppData\\Local\\Temp\\ipykernel_14120\\1782166916.py:1: SettingWithCopyWarning: \n",
      "A value is trying to be set on a copy of a slice from a DataFrame.\n",
      "Try using .loc[row_indexer,col_indexer] = value instead\n",
      "\n",
      "See the caveats in the documentation: https://pandas.pydata.org/pandas-docs/stable/user_guide/indexing.html#returning-a-view-versus-a-copy\n",
      "  df14[\"wqc\"] = \"very poor\"\n"
     ]
    }
   ],
   "source": [
    "df14[\"wqc\"] = \"very poor\""
   ]
  },
  {
   "cell_type": "code",
   "execution_count": 134,
   "id": "32f34b3d",
   "metadata": {},
   "outputs": [],
   "source": [
    "df15 =  df10[df10[\"wqi\"] >= 100]"
   ]
  },
  {
   "cell_type": "code",
   "execution_count": 135,
   "id": "54ac4229",
   "metadata": {},
   "outputs": [
    {
     "name": "stderr",
     "output_type": "stream",
     "text": [
      "C:\\Users\\sansk\\AppData\\Local\\Temp\\ipykernel_14120\\1313701067.py:1: SettingWithCopyWarning: \n",
      "A value is trying to be set on a copy of a slice from a DataFrame.\n",
      "Try using .loc[row_indexer,col_indexer] = value instead\n",
      "\n",
      "See the caveats in the documentation: https://pandas.pydata.org/pandas-docs/stable/user_guide/indexing.html#returning-a-view-versus-a-copy\n",
      "  df15[\"wqc\"] = \"unfit for consumption\"\n"
     ]
    }
   ],
   "source": [
    "df15[\"wqc\"] = \"unfit for consumption\""
   ]
  },
  {
   "cell_type": "code",
   "execution_count": 136,
   "id": "0d5cea85",
   "metadata": {},
   "outputs": [],
   "source": [
    "df16 = pd.concat([df11,df12,df13,df14,df15])"
   ]
  },
  {
   "cell_type": "code",
   "execution_count": 137,
   "id": "943fd78e",
   "metadata": {},
   "outputs": [
    {
     "data": {
      "text/plain": [
       "unfit for consumption    3920\n",
       "very poor                 676\n",
       "poor                      370\n",
       "good                      145\n",
       "Excellent                  37\n",
       "Name: wqc, dtype: int64"
      ]
     },
     "execution_count": 137,
     "metadata": {},
     "output_type": "execute_result"
    }
   ],
   "source": [
    "df16[\"wqc\"].value_counts()"
   ]
  },
  {
   "cell_type": "code",
   "execution_count": 138,
   "id": "7efd0140",
   "metadata": {},
   "outputs": [
    {
     "data": {
      "text/plain": [
       "<AxesSubplot:xlabel='wqc'>"
      ]
     },
     "execution_count": 138,
     "metadata": {},
     "output_type": "execute_result"
    },
    {
     "data": {
      "image/png": "[encoded data removed]",
      "text/plain": [
       "<Figure size 432x288 with 1 Axes>"
      ]
     },
     "metadata": {
      "needs_background": "light"
     },
     "output_type": "display_data"
    }
   ],
   "source": [
    "sns.barplot(y = df16[\"wqc\"].value_counts().index,x = df16[\"wqc\"].value_counts())"
   ]
  },
  {
   "cell_type": "code",
   "execution_count": 139,
   "id": "0d3f81ad",
   "metadata": {},
   "outputs": [],
   "source": [
    "X_7 = df10[[\"PH\",\"TH\",\"TOT_ALKALINITY\",\"BICARBONATE\",\"SULPHATE\",\"BICARBONATE\",\"SAR\"]]"
   ]
  },
  {
   "cell_type": "code",
   "execution_count": 140,
   "id": "ad82093a",
   "metadata": {},
   "outputs": [
    {
     "data": {
      "text/plain": [
       "StandardScaler()"
      ]
     },
     "execution_count": 140,
     "metadata": {},
     "output_type": "execute_result"
    }
   ],
   "source": [
    "standard_scaler.fit(X_7)"
   ]
  },
  {
   "cell_type": "code",
   "execution_count": 146,
   "id": "cb44f1b6",
   "metadata": {},
   "outputs": [],
   "source": [
    "X7_standarized = standard_scaler.transform(X_7)"
   ]
  },
  {
   "cell_type": "code",
   "execution_count": 147,
   "id": "7a91a442",
   "metadata": {},
   "outputs": [],
   "source": [
    "y_7 = df16[\"wqc\"]"
   ]
  },
  {
   "cell_type": "code",
   "execution_count": 149,
   "id": "29508a38",
   "metadata": {},
   "outputs": [],
   "source": [
    "X7_train,X7_test,y7_train,y7_test = train_test_split(X7_standarized,y_7,test_size = 0.2,random_state = 42)"
   ]
  },
  {
   "cell_type": "code",
   "execution_count": 150,
   "id": "23f03b3d",
   "metadata": {},
   "outputs": [],
   "source": [
    "from sklearn.neighbors import KNeighborsClassifier"
   ]
  },
  {
   "cell_type": "code",
   "execution_count": 151,
   "id": "6f62748b",
   "metadata": {},
   "outputs": [
    {
     "data": {
      "text/plain": [
       "KNeighborsClassifier()"
      ]
     },
     "execution_count": 151,
     "metadata": {},
     "output_type": "execute_result"
    }
   ],
   "source": [
    "knn_class.fit(X7_train,y7_train)"
   ]
  },
  {
   "cell_type": "code",
   "execution_count": 152,
   "id": "449163b6",
   "metadata": {},
   "outputs": [],
   "source": [
    "y7_pred = knn_class.predict(X7_test)"
   ]
  },
  {
   "cell_type": "code",
   "execution_count": 153,
   "id": "d0719043",
   "metadata": {},
   "outputs": [
    {
     "data": {
      "text/plain": [
       "array([[  0,   0,   0,   4,   1],\n",
       "       [  0,   2,   1,   3,   0],\n",
       "       [  0,   0,   7,  16,   4],\n",
       "       [  7,  36,  67, 725, 120],\n",
       "       [  0,   0,   0,  23,  14]], dtype=int64)"
      ]
     },
     "execution_count": 153,
     "metadata": {},
     "output_type": "execute_result"
    }
   ],
   "source": [
    "confusion_matrix(y7_pred,y7_test)"
   ]
  },
  {
   "cell_type": "code",
   "execution_count": 154,
   "id": "7b080f2c",
   "metadata": {},
   "outputs": [
    {
     "data": {
      "text/plain": [
       "RandomForestClassifier()"
      ]
     },
     "execution_count": 154,
     "metadata": {},
     "output_type": "execute_result"
    }
   ],
   "source": [
    "rf_classifier.fit(X7_train,y7_train)"
   ]
  },
  {
   "cell_type": "code",
   "execution_count": 155,
   "id": "b15a70d8",
   "metadata": {},
   "outputs": [],
   "source": [
    "y7_pred_rf = rf_classifier.predict(X7_test)"
   ]
  },
  {
   "cell_type": "code",
   "execution_count": 156,
   "id": "e9a89662",
   "metadata": {},
   "outputs": [
    {
     "data": {
      "text/plain": [
       "array([[  0,   0,   0,   0,   0],\n",
       "       [  1,   8,   0,   0,   0],\n",
       "       [  0,   1,  18,   1,   0],\n",
       "       [  5,  28,  57, 762, 113],\n",
       "       [  1,   1,   0,   8,  26]], dtype=int64)"
      ]
     },
     "execution_count": 156,
     "metadata": {},
     "output_type": "execute_result"
    }
   ],
   "source": [
    "confusion_matrix(y7_pred_rf,y7_test)"
   ]
  },
  {
   "cell_type": "code",
   "execution_count": 158,
   "id": "1ec761f6",
   "metadata": {},
   "outputs": [],
   "source": [
    "svm_classifier_1 = SVC(C=1,kernel = 'linear',gamma = 1)"
   ]
  },
  {
   "cell_type": "code",
   "execution_count": 159,
   "id": "0f591638",
   "metadata": {},
   "outputs": [
    {
     "data": {
      "text/plain": [
       "SVC(C=1, gamma=1, kernel='linear')"
      ]
     },
     "execution_count": 159,
     "metadata": {},
     "output_type": "execute_result"
    }
   ],
   "source": [
    "svm_classifier_1.fit(X7_train,y7_train)"
   ]
  },
  {
   "cell_type": "code",
   "execution_count": 167,
   "id": "a924e2f8",
   "metadata": {},
   "outputs": [],
   "source": [
    "y7_pred_svm1 = svm_classifier_1.predict(X7_test)"
   ]
  },
  {
   "cell_type": "code",
   "execution_count": 161,
   "id": "3344189b",
   "metadata": {},
   "outputs": [
    {
     "data": {
      "text/plain": [
       "array([[  0,   0,   0,   0,   0],\n",
       "       [  0,   0,   0,   0,   0],\n",
       "       [  0,   0,   0,   0,   0],\n",
       "       [  7,  38,  75, 771, 139],\n",
       "       [  0,   0,   0,   0,   0]], dtype=int64)"
      ]
     },
     "execution_count": 161,
     "metadata": {},
     "output_type": "execute_result"
    }
   ],
   "source": [
    "confusion_matrix(y7_pred_svm1,y7_test)"
   ]
  },
  {
   "cell_type": "code",
   "execution_count": 164,
   "id": "40d3a96d",
   "metadata": {},
   "outputs": [
    {
     "data": {
      "text/plain": [
       "SVC(C=1, gamma=1, kernel='poly')"
      ]
     },
     "execution_count": 164,
     "metadata": {},
     "output_type": "execute_result"
    }
   ],
   "source": [
    "svm_classifier.fit(X7_train,y7_train)"
   ]
  },
  {
   "cell_type": "code",
   "execution_count": 168,
   "id": "f09e05e2",
   "metadata": {},
   "outputs": [],
   "source": [
    "y7_pred_svm2=svm_classifier.predict(X7_test)"
   ]
  },
  {
   "cell_type": "code",
   "execution_count": 169,
   "id": "41e9750f",
   "metadata": {},
   "outputs": [
    {
     "name": "stderr",
     "output_type": "stream",
     "text": [
      "C:\\Users\\sansk\\anaconda3\\lib\\site-packages\\sklearn\\metrics\\_classification.py:1318: UndefinedMetricWarning: Recall and F-score are ill-defined and being set to 0.0 in labels with no true samples. Use `zero_division` parameter to control this behavior.\n",
      "  _warn_prf(average, modifier, msg_start, len(result))\n",
      "C:\\Users\\sansk\\anaconda3\\lib\\site-packages\\sklearn\\metrics\\_classification.py:1318: UndefinedMetricWarning: Recall and F-score are ill-defined and being set to 0.0 in labels with no true samples. Use `zero_division` parameter to control this behavior.\n",
      "  _warn_prf(average, modifier, msg_start, len(result))\n",
      "C:\\Users\\sansk\\anaconda3\\lib\\site-packages\\sklearn\\metrics\\_classification.py:1318: UndefinedMetricWarning: Recall and F-score are ill-defined and being set to 0.0 in labels with no true samples. Use `zero_division` parameter to control this behavior.\n",
      "  _warn_prf(average, modifier, msg_start, len(result))\n"
     ]
    },
    {
     "data": {
      "text/plain": [
       "'                       precision    recall  f1-score   support\\n\\n            Excellent       0.00      0.00      0.00         0\\n                 good       0.00      0.00      0.00         0\\n                 poor       0.00      0.00      0.00         0\\nunfit for consumption       1.00      0.75      0.86      1030\\n            very poor       0.00      0.00      0.00         0\\n\\n             accuracy                           0.75      1030\\n            macro avg       0.20      0.15      0.17      1030\\n         weighted avg       1.00      0.75      0.86      1030\\n'"
      ]
     },
     "execution_count": 169,
     "metadata": {},
     "output_type": "execute_result"
    }
   ],
   "source": [
    "classification_report(y7_pred_svm1,y_test)"
   ]
  },
  {
   "cell_type": "code",
   "execution_count": 170,
   "id": "c2d633f6",
   "metadata": {},
   "outputs": [
    {
     "data": {
      "text/plain": [
       "array([[  0,   0,   0,   7,   0],\n",
       "       [  0,   0,   0,  38,   0],\n",
       "       [  0,   0,   1,  74,   0],\n",
       "       [  2,   0,   0, 768,   1],\n",
       "       [  1,   0,   0, 137,   1]], dtype=int64)"
      ]
     },
     "execution_count": 170,
     "metadata": {},
     "output_type": "execute_result"
    }
   ],
   "source": [
    "confusion_matrix(y7_test,y7_pred_svm2)"
   ]
  },
  {
   "cell_type": "code",
   "execution_count": 171,
   "id": "78ab6169",
   "metadata": {},
   "outputs": [
    {
     "name": "stderr",
     "output_type": "stream",
     "text": [
      "C:\\Users\\sansk\\anaconda3\\lib\\site-packages\\sklearn\\metrics\\_classification.py:1318: UndefinedMetricWarning: Recall and F-score are ill-defined and being set to 0.0 in labels with no true samples. Use `zero_division` parameter to control this behavior.\n",
      "  _warn_prf(average, modifier, msg_start, len(result))\n",
      "C:\\Users\\sansk\\anaconda3\\lib\\site-packages\\sklearn\\metrics\\_classification.py:1318: UndefinedMetricWarning: Recall and F-score are ill-defined and being set to 0.0 in labels with no true samples. Use `zero_division` parameter to control this behavior.\n",
      "  _warn_prf(average, modifier, msg_start, len(result))\n",
      "C:\\Users\\sansk\\anaconda3\\lib\\site-packages\\sklearn\\metrics\\_classification.py:1318: UndefinedMetricWarning: Recall and F-score are ill-defined and being set to 0.0 in labels with no true samples. Use `zero_division` parameter to control this behavior.\n",
      "  _warn_prf(average, modifier, msg_start, len(result))\n"
     ]
    },
    {
     "data": {
      "text/plain": [
       "'                       precision    recall  f1-score   support\\n\\n            Excellent       0.00      0.00      0.00         0\\n                 good       0.21      0.89      0.34         9\\n                 poor       0.24      0.90      0.38        20\\nunfit for consumption       0.99      0.79      0.88       965\\n            very poor       0.19      0.72      0.30        36\\n\\n             accuracy                           0.79      1030\\n            macro avg       0.33      0.66      0.38      1030\\n         weighted avg       0.94      0.79      0.84      1030\\n'"
      ]
     },
     "execution_count": 171,
     "metadata": {},
     "output_type": "execute_result"
    }
   ],
   "source": [
    "classification_report(y7_pred_rf,y_test)"
   ]
  },
  {
   "cell_type": "code",
   "execution_count": 172,
   "id": "02df2af5",
   "metadata": {},
   "outputs": [
    {
     "name": "stderr",
     "output_type": "stream",
     "text": [
      "C:\\Users\\sansk\\anaconda3\\lib\\site-packages\\sklearn\\metrics\\_classification.py:1318: UndefinedMetricWarning: Recall and F-score are ill-defined and being set to 0.0 in labels with no true samples. Use `zero_division` parameter to control this behavior.\n",
      "  _warn_prf(average, modifier, msg_start, len(result))\n",
      "C:\\Users\\sansk\\anaconda3\\lib\\site-packages\\sklearn\\metrics\\_classification.py:1318: UndefinedMetricWarning: Recall and F-score are ill-defined and being set to 0.0 in labels with no true samples. Use `zero_division` parameter to control this behavior.\n",
      "  _warn_prf(average, modifier, msg_start, len(result))\n",
      "C:\\Users\\sansk\\anaconda3\\lib\\site-packages\\sklearn\\metrics\\_classification.py:1318: UndefinedMetricWarning: Recall and F-score are ill-defined and being set to 0.0 in labels with no true samples. Use `zero_division` parameter to control this behavior.\n",
      "  _warn_prf(average, modifier, msg_start, len(result))\n"
     ]
    },
    {
     "data": {
      "text/plain": [
       "'                       precision    recall  f1-score   support\\n\\n            Excellent       0.00      0.00      0.00         0\\n                 good       0.00      0.00      0.00         0\\n                 poor       0.00      0.00      0.00         0\\nunfit for consumption       1.00      0.75      0.86      1030\\n            very poor       0.00      0.00      0.00         0\\n\\n             accuracy                           0.75      1030\\n            macro avg       0.20      0.15      0.17      1030\\n         weighted avg       1.00      0.75      0.86      1030\\n'"
      ]
     },
     "execution_count": 172,
     "metadata": {},
     "output_type": "execute_result"
    }
   ],
   "source": [
    "classification_report(y7_pred_svm1,y7_test)"
   ]
  },
  {
   "cell_type": "code",
   "execution_count": 173,
   "id": "d1321682",
   "metadata": {},
   "outputs": [
    {
     "data": {
      "text/plain": [
       "'                       precision    recall  f1-score   support\\n\\n            Excellent       0.00      0.00      0.00         5\\n                 good       0.05      0.33      0.09         6\\n                 poor       0.09      0.26      0.14        27\\nunfit for consumption       0.94      0.76      0.84       955\\n            very poor       0.10      0.38      0.16        37\\n\\n             accuracy                           0.73      1030\\n            macro avg       0.24      0.35      0.25      1030\\n         weighted avg       0.88      0.73      0.79      1030\\n'"
      ]
     },
     "execution_count": 173,
     "metadata": {},
     "output_type": "execute_result"
    }
   ],
   "source": [
    "classification_report(y7_pred,y7_test)"
   ]
  },
  {
   "cell_type": "code",
   "execution_count": 175,
   "id": "7dbac845",
   "metadata": {},
   "outputs": [
    {
     "data": {
      "text/plain": [
       "Index(['SITE_ID', 'WRIS ID', 'LATITUDE', 'LONGITUDE', 'SITE_TYPE',\n",
       "       'STATE_NAME', 'DISTRICT_NAME', 'TAHSIL_NAME', 'BLOCK_NAME', 'SITE_NAME',\n",
       "       'BASIN_NAME', 'PROJECT_NAME', 'PH', 'EC', 'TH', 'TOT_ALKALINITY', 'CA',\n",
       "       'MG', 'NA', 'K', 'FE', 'CARBONATE', 'BICARBONATE', 'CHLORIDE',\n",
       "       'SULPHATE', 'NITRATE', 'FLUORIDE', 'SAR', 'RSC', 'QipH', 'Qiec', 'Qith',\n",
       "       'qiTA', 'qica', 'qimg', 'qina', 'qibc', 'qic', 'sulfate', 'qin',\n",
       "       'qisar', 'wqi', 'wqc'],\n",
       "      dtype='object')"
      ]
     },
     "execution_count": 175,
     "metadata": {},
     "output_type": "execute_result"
    }
   ],
   "source": [
    "df3.columns"
   ]
  },
  {
   "cell_type": "code",
   "execution_count": null,
   "id": "ec9be445",
   "metadata": {},
   "outputs": [],
   "source": []
  }
 ],
 "metadata": {
  "kernelspec": {
   "display_name": "Python 3 (ipykernel)",
   "language": "python",
   "name": "python3"
  },
  "language_info": {
   "codemirror_mode": {
    "name": "ipython",
    "version": 3
   },
   "file_extension": ".py",
   "mimetype": "text/x-python",
   "name": "python",
   "nbconvert_exporter": "python",
   "pygments_lexer": "ipython3",
   "version": "3.9.12"
  }
 },
 "nbformat": 4,
 "nbformat_minor": 5
}
